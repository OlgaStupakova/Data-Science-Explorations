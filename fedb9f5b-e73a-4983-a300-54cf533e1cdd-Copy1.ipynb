{
 "cells": [
  {
   "cell_type": "markdown",
   "metadata": {},
   "source": []
  },
  {
   "cell_type": "markdown",
   "metadata": {
    "toc": true
   },
   "source": [
    "<h1>Содержание<span class=\"tocSkip\"></span></h1>\n",
    "<div class=\"toc\"><ul class=\"toc-item\"><li><span><a href=\"#Подготовка-данных\" data-toc-modified-id=\"Подготовка-данных-1\"><span class=\"toc-item-num\">1&nbsp;&nbsp;</span>Подготовка данных</a></span></li><li><span><a href=\"#Исследование-задачи\" data-toc-modified-id=\"Исследование-задачи-2\"><span class=\"toc-item-num\">2&nbsp;&nbsp;</span>Исследование задачи</a></span></li><li><span><a href=\"#Борьба-с-дисбалансом\" data-toc-modified-id=\"Борьба-с-дисбалансом-3\"><span class=\"toc-item-num\">3&nbsp;&nbsp;</span>Борьба с дисбалансом</a></span></li><li><span><a href=\"#Тестирование-модели\" data-toc-modified-id=\"Тестирование-модели-4\"><span class=\"toc-item-num\">4&nbsp;&nbsp;</span>Тестирование модели</a></span></li><li><span><a href=\"#Чек-лист-готовности-проекта\" data-toc-modified-id=\"Чек-лист-готовности-проекта-5\"><span class=\"toc-item-num\">5&nbsp;&nbsp;</span>Чек-лист готовности проекта</a></span></li></ul></div>"
   ]
  },
  {
   "cell_type": "markdown",
   "metadata": {},
   "source": [
    "# Отток клиентов"
   ]
  },
  {
   "cell_type": "markdown",
   "metadata": {},
   "source": [
    "Из «Бета-Банка» стали уходить клиенты. Каждый месяц. Немного, но заметно. Банковские маркетологи посчитали: сохранять текущих клиентов дешевле, чем привлекать новых.\n",
    "\n",
    "Нужно спрогнозировать, уйдёт клиент из банка в ближайшее время или нет. Вам предоставлены исторические данные о поведении клиентов и расторжении договоров с банком. \n",
    "\n",
    "Постройте модель с предельно большим значением *F1*-меры. Чтобы сдать проект успешно, нужно довести метрику до 0.59. Проверьте *F1*-меру на тестовой выборке самостоятельно.\n",
    "\n",
    "Дополнительно измеряйте *AUC-ROC*, сравнивайте её значение с *F1*-мерой.\n",
    "\n",
    "Источник данных: [https://www.kaggle.com/barelydedicated/bank-customer-churn-modeling](https://www.kaggle.com/barelydedicated/bank-customer-churn-modeling)"
   ]
  },
  {
   "cell_type": "markdown",
   "metadata": {},
   "source": [
    "## Подготовка данных"
   ]
  },
  {
   "cell_type": "code",
   "execution_count": 39,
   "metadata": {},
   "outputs": [],
   "source": [
    "import pandas as pd\n",
    "import numpy as np\n",
    "import seaborn as sns\n",
    "import matplotlib.pyplot as plt\n",
    "import seaborn as sns\n",
    "from sklearn.model_selection import train_test_split\n",
    "from sklearn.linear_model import LogisticRegression\n",
    "from sklearn.ensemble import RandomForestClassifier\n",
    "from sklearn.tree import DecisionTreeClassifier\n",
    "from sklearn.preprocessing import StandardScaler\n",
    "from sklearn.metrics import accuracy_score,roc_auc_score,f1_score,precision_score, recall_score\n",
    "from sklearn.utils import shuffle\n",
    "from sklearn.metrics import mean_absolute_error\n",
    "from sklearn.metrics import roc_curve"
   ]
  },
  {
   "cell_type": "markdown",
   "metadata": {},
   "source": [
    "## Исследование задачи"
   ]
  },
  {
   "cell_type": "code",
   "execution_count": 2,
   "metadata": {},
   "outputs": [
    {
     "name": "stdout",
     "output_type": "stream",
     "text": [
      "<class 'pandas.core.frame.DataFrame'>\n",
      "RangeIndex: 10000 entries, 0 to 9999\n",
      "Data columns (total 14 columns):\n",
      " #   Column           Non-Null Count  Dtype  \n",
      "---  ------           --------------  -----  \n",
      " 0   RowNumber        10000 non-null  int64  \n",
      " 1   CustomerId       10000 non-null  int64  \n",
      " 2   Surname          10000 non-null  object \n",
      " 3   CreditScore      10000 non-null  int64  \n",
      " 4   Geography        10000 non-null  object \n",
      " 5   Gender           10000 non-null  object \n",
      " 6   Age              10000 non-null  int64  \n",
      " 7   Tenure           9091 non-null   float64\n",
      " 8   Balance          10000 non-null  float64\n",
      " 9   NumOfProducts    10000 non-null  int64  \n",
      " 10  HasCrCard        10000 non-null  int64  \n",
      " 11  IsActiveMember   10000 non-null  int64  \n",
      " 12  EstimatedSalary  10000 non-null  float64\n",
      " 13  Exited           10000 non-null  int64  \n",
      "dtypes: float64(3), int64(8), object(3)\n",
      "memory usage: 1.1+ MB\n"
     ]
    },
    {
     "data": {
      "text/html": [
       "<div>\n",
       "<style scoped>\n",
       "    .dataframe tbody tr th:only-of-type {\n",
       "        vertical-align: middle;\n",
       "    }\n",
       "\n",
       "    .dataframe tbody tr th {\n",
       "        vertical-align: top;\n",
       "    }\n",
       "\n",
       "    .dataframe thead th {\n",
       "        text-align: right;\n",
       "    }\n",
       "</style>\n",
       "<table border=\"1\" class=\"dataframe\">\n",
       "  <thead>\n",
       "    <tr style=\"text-align: right;\">\n",
       "      <th></th>\n",
       "      <th>RowNumber</th>\n",
       "      <th>CustomerId</th>\n",
       "      <th>Surname</th>\n",
       "      <th>CreditScore</th>\n",
       "      <th>Geography</th>\n",
       "      <th>Gender</th>\n",
       "      <th>Age</th>\n",
       "      <th>Tenure</th>\n",
       "      <th>Balance</th>\n",
       "      <th>NumOfProducts</th>\n",
       "      <th>HasCrCard</th>\n",
       "      <th>IsActiveMember</th>\n",
       "      <th>EstimatedSalary</th>\n",
       "      <th>Exited</th>\n",
       "    </tr>\n",
       "  </thead>\n",
       "  <tbody>\n",
       "    <tr>\n",
       "      <th>0</th>\n",
       "      <td>1</td>\n",
       "      <td>15634602</td>\n",
       "      <td>Hargrave</td>\n",
       "      <td>619</td>\n",
       "      <td>France</td>\n",
       "      <td>Female</td>\n",
       "      <td>42</td>\n",
       "      <td>2.0</td>\n",
       "      <td>0.00</td>\n",
       "      <td>1</td>\n",
       "      <td>1</td>\n",
       "      <td>1</td>\n",
       "      <td>101348.88</td>\n",
       "      <td>1</td>\n",
       "    </tr>\n",
       "    <tr>\n",
       "      <th>1</th>\n",
       "      <td>2</td>\n",
       "      <td>15647311</td>\n",
       "      <td>Hill</td>\n",
       "      <td>608</td>\n",
       "      <td>Spain</td>\n",
       "      <td>Female</td>\n",
       "      <td>41</td>\n",
       "      <td>1.0</td>\n",
       "      <td>83807.86</td>\n",
       "      <td>1</td>\n",
       "      <td>0</td>\n",
       "      <td>1</td>\n",
       "      <td>112542.58</td>\n",
       "      <td>0</td>\n",
       "    </tr>\n",
       "    <tr>\n",
       "      <th>2</th>\n",
       "      <td>3</td>\n",
       "      <td>15619304</td>\n",
       "      <td>Onio</td>\n",
       "      <td>502</td>\n",
       "      <td>France</td>\n",
       "      <td>Female</td>\n",
       "      <td>42</td>\n",
       "      <td>8.0</td>\n",
       "      <td>159660.80</td>\n",
       "      <td>3</td>\n",
       "      <td>1</td>\n",
       "      <td>0</td>\n",
       "      <td>113931.57</td>\n",
       "      <td>1</td>\n",
       "    </tr>\n",
       "    <tr>\n",
       "      <th>3</th>\n",
       "      <td>4</td>\n",
       "      <td>15701354</td>\n",
       "      <td>Boni</td>\n",
       "      <td>699</td>\n",
       "      <td>France</td>\n",
       "      <td>Female</td>\n",
       "      <td>39</td>\n",
       "      <td>1.0</td>\n",
       "      <td>0.00</td>\n",
       "      <td>2</td>\n",
       "      <td>0</td>\n",
       "      <td>0</td>\n",
       "      <td>93826.63</td>\n",
       "      <td>0</td>\n",
       "    </tr>\n",
       "    <tr>\n",
       "      <th>4</th>\n",
       "      <td>5</td>\n",
       "      <td>15737888</td>\n",
       "      <td>Mitchell</td>\n",
       "      <td>850</td>\n",
       "      <td>Spain</td>\n",
       "      <td>Female</td>\n",
       "      <td>43</td>\n",
       "      <td>2.0</td>\n",
       "      <td>125510.82</td>\n",
       "      <td>1</td>\n",
       "      <td>1</td>\n",
       "      <td>1</td>\n",
       "      <td>79084.10</td>\n",
       "      <td>0</td>\n",
       "    </tr>\n",
       "  </tbody>\n",
       "</table>\n",
       "</div>"
      ],
      "text/plain": [
       "   RowNumber  CustomerId   Surname  CreditScore Geography  Gender  Age  \\\n",
       "0          1    15634602  Hargrave          619    France  Female   42   \n",
       "1          2    15647311      Hill          608     Spain  Female   41   \n",
       "2          3    15619304      Onio          502    France  Female   42   \n",
       "3          4    15701354      Boni          699    France  Female   39   \n",
       "4          5    15737888  Mitchell          850     Spain  Female   43   \n",
       "\n",
       "   Tenure    Balance  NumOfProducts  HasCrCard  IsActiveMember  \\\n",
       "0     2.0       0.00              1          1               1   \n",
       "1     1.0   83807.86              1          0               1   \n",
       "2     8.0  159660.80              3          1               0   \n",
       "3     1.0       0.00              2          0               0   \n",
       "4     2.0  125510.82              1          1               1   \n",
       "\n",
       "   EstimatedSalary  Exited  \n",
       "0        101348.88       1  \n",
       "1        112542.58       0  \n",
       "2        113931.57       1  \n",
       "3         93826.63       0  \n",
       "4         79084.10       0  "
      ]
     },
     "execution_count": 2,
     "metadata": {},
     "output_type": "execute_result"
    }
   ],
   "source": [
    "df=pd.read_csv('/datasets/Churn.csv')\n",
    "df.info()\n",
    "df.head ()"
   ]
  },
  {
   "cell_type": "markdown",
   "metadata": {},
   "source": [
    "В целом данные полные, пропуски есть только в столбце Tenure. Категориальные данные уже преобразованы в систему 1/0. Признаки CustomerId Surname можно исключить."
   ]
  },
  {
   "cell_type": "code",
   "execution_count": 3,
   "metadata": {},
   "outputs": [],
   "source": [
    "#удалим  признаки, которые не влияют на отток клиентов\n",
    "df.drop(columns=['CustomerId','Surname', 'RowNumber'],axis=1,inplace=True)\n"
   ]
  },
  {
   "cell_type": "code",
   "execution_count": 4,
   "metadata": {},
   "outputs": [
    {
     "data": {
      "text/html": [
       "<div>\n",
       "<style scoped>\n",
       "    .dataframe tbody tr th:only-of-type {\n",
       "        vertical-align: middle;\n",
       "    }\n",
       "\n",
       "    .dataframe tbody tr th {\n",
       "        vertical-align: top;\n",
       "    }\n",
       "\n",
       "    .dataframe thead th {\n",
       "        text-align: right;\n",
       "    }\n",
       "</style>\n",
       "<table border=\"1\" class=\"dataframe\">\n",
       "  <thead>\n",
       "    <tr style=\"text-align: right;\">\n",
       "      <th></th>\n",
       "      <th>CreditScore</th>\n",
       "      <th>Age</th>\n",
       "      <th>Tenure</th>\n",
       "      <th>Balance</th>\n",
       "      <th>NumOfProducts</th>\n",
       "      <th>HasCrCard</th>\n",
       "      <th>IsActiveMember</th>\n",
       "      <th>EstimatedSalary</th>\n",
       "      <th>Exited</th>\n",
       "      <th>Geography_Germany</th>\n",
       "      <th>Geography_Spain</th>\n",
       "      <th>Gender_Male</th>\n",
       "    </tr>\n",
       "  </thead>\n",
       "  <tbody>\n",
       "    <tr>\n",
       "      <th>0</th>\n",
       "      <td>619</td>\n",
       "      <td>42</td>\n",
       "      <td>2.0</td>\n",
       "      <td>0.00</td>\n",
       "      <td>1</td>\n",
       "      <td>1</td>\n",
       "      <td>1</td>\n",
       "      <td>101348.88</td>\n",
       "      <td>1</td>\n",
       "      <td>0</td>\n",
       "      <td>0</td>\n",
       "      <td>0</td>\n",
       "    </tr>\n",
       "    <tr>\n",
       "      <th>1</th>\n",
       "      <td>608</td>\n",
       "      <td>41</td>\n",
       "      <td>1.0</td>\n",
       "      <td>83807.86</td>\n",
       "      <td>1</td>\n",
       "      <td>0</td>\n",
       "      <td>1</td>\n",
       "      <td>112542.58</td>\n",
       "      <td>0</td>\n",
       "      <td>0</td>\n",
       "      <td>1</td>\n",
       "      <td>0</td>\n",
       "    </tr>\n",
       "    <tr>\n",
       "      <th>2</th>\n",
       "      <td>502</td>\n",
       "      <td>42</td>\n",
       "      <td>8.0</td>\n",
       "      <td>159660.80</td>\n",
       "      <td>3</td>\n",
       "      <td>1</td>\n",
       "      <td>0</td>\n",
       "      <td>113931.57</td>\n",
       "      <td>1</td>\n",
       "      <td>0</td>\n",
       "      <td>0</td>\n",
       "      <td>0</td>\n",
       "    </tr>\n",
       "    <tr>\n",
       "      <th>3</th>\n",
       "      <td>699</td>\n",
       "      <td>39</td>\n",
       "      <td>1.0</td>\n",
       "      <td>0.00</td>\n",
       "      <td>2</td>\n",
       "      <td>0</td>\n",
       "      <td>0</td>\n",
       "      <td>93826.63</td>\n",
       "      <td>0</td>\n",
       "      <td>0</td>\n",
       "      <td>0</td>\n",
       "      <td>0</td>\n",
       "    </tr>\n",
       "    <tr>\n",
       "      <th>4</th>\n",
       "      <td>850</td>\n",
       "      <td>43</td>\n",
       "      <td>2.0</td>\n",
       "      <td>125510.82</td>\n",
       "      <td>1</td>\n",
       "      <td>1</td>\n",
       "      <td>1</td>\n",
       "      <td>79084.10</td>\n",
       "      <td>0</td>\n",
       "      <td>0</td>\n",
       "      <td>1</td>\n",
       "      <td>0</td>\n",
       "    </tr>\n",
       "  </tbody>\n",
       "</table>\n",
       "</div>"
      ],
      "text/plain": [
       "   CreditScore  Age  Tenure    Balance  NumOfProducts  HasCrCard  \\\n",
       "0          619   42     2.0       0.00              1          1   \n",
       "1          608   41     1.0   83807.86              1          0   \n",
       "2          502   42     8.0  159660.80              3          1   \n",
       "3          699   39     1.0       0.00              2          0   \n",
       "4          850   43     2.0  125510.82              1          1   \n",
       "\n",
       "   IsActiveMember  EstimatedSalary  Exited  Geography_Germany  \\\n",
       "0               1        101348.88       1                  0   \n",
       "1               1        112542.58       0                  0   \n",
       "2               0        113931.57       1                  0   \n",
       "3               0         93826.63       0                  0   \n",
       "4               1         79084.10       0                  0   \n",
       "\n",
       "   Geography_Spain  Gender_Male  \n",
       "0                0            0  \n",
       "1                1            0  \n",
       "2                0            0  \n",
       "3                0            0  \n",
       "4                1            0  "
      ]
     },
     "execution_count": 4,
     "metadata": {},
     "output_type": "execute_result"
    }
   ],
   "source": [
    "# Применим one hot encoding к датафрейму, избежав \"ловушку фиктивных признаков\"\n",
    "df_ohe=pd.get_dummies(df, drop_first=True)\n",
    "df_ohe.head()"
   ]
  },
  {
   "cell_type": "code",
   "execution_count": 5,
   "metadata": {},
   "outputs": [
    {
     "data": {
      "text/plain": [
       "1.0     952\n",
       "2.0     950\n",
       "8.0     933\n",
       "3.0     928\n",
       "5.0     927\n",
       "7.0     925\n",
       "4.0     885\n",
       "9.0     882\n",
       "6.0     881\n",
       "10.0    446\n",
       "0.0     382\n",
       "Name: Tenure, dtype: int64"
      ]
     },
     "metadata": {},
     "output_type": "display_data"
    }
   ],
   "source": [
    "#проанализируем пропуски\n",
    "display(df_ohe['Tenure'].value_counts())"
   ]
  },
  {
   "cell_type": "markdown",
   "metadata": {},
   "source": [
    "Пропусков только 10% и сложно понять есть ли какая либо связь с другими категортиями данных. Пока предлагаю заполнить случайными значениями."
   ]
  },
  {
   "cell_type": "code",
   "execution_count": 6,
   "metadata": {},
   "outputs": [
    {
     "data": {
      "text/plain": [
       "Text(0.5, 1.0, 'Tenure')"
      ]
     },
     "execution_count": 6,
     "metadata": {},
     "output_type": "execute_result"
    },
    {
     "data": {
      "image/png": "[encoded data removed]",
      "text/plain": [
       "<Figure size 432x288 with 1 Axes>"
      ]
     },
     "metadata": {
      "needs_background": "light"
     },
     "output_type": "display_data"
    }
   ],
   "source": [
    "#построим гистограмму\n",
    "df_ohe['Tenure'].hist()\n",
    "plt.title('Tenure')"
   ]
  },
  {
   "cell_type": "code",
   "execution_count": 7,
   "metadata": {},
   "outputs": [],
   "source": [
    "#Заполняем пропуски\n",
    "values = (np.random.randint(0,10,size=df['Tenure'].isna().sum()))\n",
    "df_ohe.loc[df_ohe['Tenure'].isna(),'Tenure']=values"
   ]
  },
  {
   "cell_type": "code",
   "execution_count": 8,
   "metadata": {},
   "outputs": [
    {
     "data": {
      "text/plain": [
       "Text(0.5, 1.0, 'Tenure')"
      ]
     },
     "execution_count": 8,
     "metadata": {},
     "output_type": "execute_result"
    },
    {
     "data": {
      "image/png": "[encoded data removed]",
      "text/plain": [
       "<Figure size 432x288 with 1 Axes>"
      ]
     },
     "metadata": {
      "needs_background": "light"
     },
     "output_type": "display_data"
    }
   ],
   "source": [
    "#Проверим распределение после заполнения пропусков\n",
    "df_ohe['Tenure'].hist()\n",
    "plt.title('Tenure')"
   ]
  },
  {
   "cell_type": "markdown",
   "metadata": {},
   "source": []
  },
  {
   "cell_type": "code",
   "execution_count": 9,
   "metadata": {},
   "outputs": [
    {
     "data": {
      "image/png": "[encoded data removed]",
      "text/plain": [
       "<Figure size 432x288 with 1 Axes>"
      ]
     },
     "metadata": {
      "needs_background": "light"
     },
     "output_type": "display_data"
    },
    {
     "data": {
      "image/png": "[encoded data removed]",
      "text/plain": [
       "<Figure size 432x288 with 1 Axes>"
      ]
     },
     "metadata": {
      "needs_background": "light"
     },
     "output_type": "display_data"
    },
    {
     "data": {
      "image/png": "[encoded data removed]",
      "text/plain": [
       "<Figure size 432x288 with 1 Axes>"
      ]
     },
     "metadata": {
      "needs_background": "light"
     },
     "output_type": "display_data"
    },
    {
     "data": {
      "image/png": "[encoded data removed]",
      "text/plain": [
       "<Figure size 432x288 with 1 Axes>"
      ]
     },
     "metadata": {
      "needs_background": "light"
     },
     "output_type": "display_data"
    },
    {
     "data": {
      "image/png": "[encoded data removed]",
      "text/plain": [
       "<Figure size 432x288 with 1 Axes>"
      ]
     },
     "metadata": {
      "needs_background": "light"
     },
     "output_type": "display_data"
    }
   ],
   "source": [
    "#проверим визуально возможный дисбаланс в категориальных признаках:\n",
    "for col in df[['NumOfProducts', 'HasCrCard', 'Gender', 'IsActiveMember', 'Geography']].columns:\n",
    "    ax = sns.countplot(x = col, data = df)\n",
    "    plt.title('Распределение клиентов по ' + col)\n",
    "    plt.ylabel('Количество клиентов')\n",
    "    plt.xlabel('Значение')\n",
    "    plt.show()"
   ]
  },
  {
   "cell_type": "code",
   "execution_count": 10,
   "metadata": {},
   "outputs": [
    {
     "name": "stderr",
     "output_type": "stream",
     "text": [
      "/opt/conda/lib/python3.9/site-packages/seaborn/distributions.py:2557: FutureWarning: `distplot` is a deprecated function and will be removed in a future version. Please adapt your code to use either `displot` (a figure-level function with similar flexibility) or `histplot` (an axes-level function for histograms).\n",
      "  warnings.warn(msg, FutureWarning)\n"
     ]
    },
    {
     "data": {
      "image/png": "[encoded data removed]",
      "text/plain": [
       "<Figure size 432x288 with 1 Axes>"
      ]
     },
     "metadata": {
      "needs_background": "light"
     },
     "output_type": "display_data"
    },
    {
     "name": "stderr",
     "output_type": "stream",
     "text": [
      "/opt/conda/lib/python3.9/site-packages/seaborn/distributions.py:2557: FutureWarning: `distplot` is a deprecated function and will be removed in a future version. Please adapt your code to use either `displot` (a figure-level function with similar flexibility) or `histplot` (an axes-level function for histograms).\n",
      "  warnings.warn(msg, FutureWarning)\n"
     ]
    },
    {
     "data": {
      "image/png": "[encoded data removed]",
      "text/plain": [
       "<Figure size 432x288 with 1 Axes>"
      ]
     },
     "metadata": {
      "needs_background": "light"
     },
     "output_type": "display_data"
    },
    {
     "name": "stderr",
     "output_type": "stream",
     "text": [
      "/opt/conda/lib/python3.9/site-packages/seaborn/distributions.py:2557: FutureWarning: `distplot` is a deprecated function and will be removed in a future version. Please adapt your code to use either `displot` (a figure-level function with similar flexibility) or `histplot` (an axes-level function for histograms).\n",
      "  warnings.warn(msg, FutureWarning)\n"
     ]
    },
    {
     "data": {
      "image/png": "[encoded data removed]",
      "text/plain": [
       "<Figure size 432x288 with 1 Axes>"
      ]
     },
     "metadata": {
      "needs_background": "light"
     },
     "output_type": "display_data"
    },
    {
     "name": "stderr",
     "output_type": "stream",
     "text": [
      "/opt/conda/lib/python3.9/site-packages/seaborn/distributions.py:2557: FutureWarning: `distplot` is a deprecated function and will be removed in a future version. Please adapt your code to use either `displot` (a figure-level function with similar flexibility) or `histplot` (an axes-level function for histograms).\n",
      "  warnings.warn(msg, FutureWarning)\n"
     ]
    },
    {
     "data": {
      "image/png": "[encoded data removed]",
      "text/plain": [
       "<Figure size 432x288 with 1 Axes>"
      ]
     },
     "metadata": {
      "needs_background": "light"
     },
     "output_type": "display_data"
    },
    {
     "name": "stderr",
     "output_type": "stream",
     "text": [
      "/opt/conda/lib/python3.9/site-packages/seaborn/distributions.py:2557: FutureWarning: `distplot` is a deprecated function and will be removed in a future version. Please adapt your code to use either `displot` (a figure-level function with similar flexibility) or `histplot` (an axes-level function for histograms).\n",
      "  warnings.warn(msg, FutureWarning)\n"
     ]
    },
    {
     "data": {
      "image/png": "[encoded data removed]",
      "text/plain": [
       "<Figure size 432x288 with 1 Axes>"
      ]
     },
     "metadata": {
      "needs_background": "light"
     },
     "output_type": "display_data"
    }
   ],
   "source": [
    "# Визуализируем непрерывные признаки\n",
    "for col in df[['CreditScore', 'Age', 'Balance', 'EstimatedSalary', 'Tenure']].columns:\n",
    "    sns.distplot(df[col])\n",
    "    plt.title('Распределение клиентов по ' + col)\n",
    "    plt.ylabel('Количество клиентов')\n",
    "    plt.xlabel('Значение')\n",
    "    plt.show()\n"
   ]
  },
  {
   "cell_type": "markdown",
   "metadata": {},
   "source": [
    "В выборке:\n",
    "**CreditScore**´- нормальное распределение со сдвигом в право\n",
    "**Geography** - большая часть клиентов из Франции\n",
    "**Gender** - почти равные значения\n",
    "**Age** - нормальное распределение\n",
    "**Tenure** - почти равномерное распределение\n",
    "**Balance** - нормальное распределение с выбросом\n",
    "**NumOfProducts** - в основном не больше 2х продуктов\n",
    "**HasCrCard** - на 50% больше держателей карт\n",
    "**IsActiveMember** - равные значения\n",
    "**EstimatedSalary** - распределена почти равномерно\n",
    "**Exited** - отрицательных значений больше\n"
   ]
  },
  {
   "cell_type": "code",
   "execution_count": 11,
   "metadata": {},
   "outputs": [
    {
     "name": "stdout",
     "output_type": "stream",
     "text": [
      "Размер тренериующей выборки 7000\n",
      "Размер валидационной выборки 1500\n",
      "Размер тестовой выборки 1500\n"
     ]
    }
   ],
   "source": [
    "# Разделим тестовую, обучающую , валидационную выборки:\n",
    "#Разобьем выборку по принципу 70/15/15.\n",
    "\n",
    "target = df_ohe['Exited']\n",
    "features  = df_ohe.drop('Exited',axis  = 1)\n",
    "\n",
    "features_train, features_set, target_train, target_set  = train_test_split(\n",
    "    features, target, test_size=0.3, random_state=12345)\n",
    "\n",
    "features_test, features_valid, target_test, target_valid,  = train_test_split(\n",
    "    features_set, target_set, test_size= 0.5,  random_state=12345)\n",
    "\n",
    "print('Размер тренериующей выборки', target_train.shape[0])\n",
    "print('Размер валидационной выборки', target_valid.shape[0])\n",
    "print('Размер тестовой выборки', target_test.shape[0])\n",
    "\n",
    "\n",
    "\n",
    "#target = df_ohe['Exited']\n",
    "#features = df_ohe.drop('Exited', axis=1)\n",
    "#features_train, features_valid, target_train, target_valid = train_test_split(features, target, test_size=0.25, random_state=12345)"
   ]
  },
  {
   "cell_type": "code",
   "execution_count": 12,
   "metadata": {
    "scrolled": true
   },
   "outputs": [
    {
     "name": "stdout",
     "output_type": "stream",
     "text": [
      "(7000, 11)\n",
      "(1500, 11)\n",
      "(1500, 11)\n"
     ]
    },
    {
     "name": "stderr",
     "output_type": "stream",
     "text": [
      "/tmp/ipykernel_48/2452645946.py:6: SettingWithCopyWarning: \n",
      "A value is trying to be set on a copy of a slice from a DataFrame.\n",
      "Try using .loc[row_indexer,col_indexer] = value instead\n",
      "\n",
      "See the caveats in the documentation: https://pandas.pydata.org/pandas-docs/stable/user_guide/indexing.html#returning-a-view-versus-a-copy\n",
      "  features_train[numeric] = scaler.transform(features_train[numeric])\n",
      "/opt/conda/lib/python3.9/site-packages/pandas/core/indexing.py:1738: SettingWithCopyWarning: \n",
      "A value is trying to be set on a copy of a slice from a DataFrame.\n",
      "Try using .loc[row_indexer,col_indexer] = value instead\n",
      "\n",
      "See the caveats in the documentation: https://pandas.pydata.org/pandas-docs/stable/user_guide/indexing.html#returning-a-view-versus-a-copy\n",
      "  self._setitem_single_column(loc, value[:, i].tolist(), pi)\n",
      "/tmp/ipykernel_48/2452645946.py:7: SettingWithCopyWarning: \n",
      "A value is trying to be set on a copy of a slice from a DataFrame.\n",
      "Try using .loc[row_indexer,col_indexer] = value instead\n",
      "\n",
      "See the caveats in the documentation: https://pandas.pydata.org/pandas-docs/stable/user_guide/indexing.html#returning-a-view-versus-a-copy\n",
      "  features_valid[numeric] = scaler.transform(features_valid[numeric])\n",
      "/opt/conda/lib/python3.9/site-packages/pandas/core/indexing.py:1738: SettingWithCopyWarning: \n",
      "A value is trying to be set on a copy of a slice from a DataFrame.\n",
      "Try using .loc[row_indexer,col_indexer] = value instead\n",
      "\n",
      "See the caveats in the documentation: https://pandas.pydata.org/pandas-docs/stable/user_guide/indexing.html#returning-a-view-versus-a-copy\n",
      "  self._setitem_single_column(loc, value[:, i].tolist(), pi)\n",
      "/tmp/ipykernel_48/2452645946.py:8: SettingWithCopyWarning: \n",
      "A value is trying to be set on a copy of a slice from a DataFrame.\n",
      "Try using .loc[row_indexer,col_indexer] = value instead\n",
      "\n",
      "See the caveats in the documentation: https://pandas.pydata.org/pandas-docs/stable/user_guide/indexing.html#returning-a-view-versus-a-copy\n",
      "  features_test[numeric]= scaler.transform(features_test[numeric])\n",
      "/opt/conda/lib/python3.9/site-packages/pandas/core/indexing.py:1738: SettingWithCopyWarning: \n",
      "A value is trying to be set on a copy of a slice from a DataFrame.\n",
      "Try using .loc[row_indexer,col_indexer] = value instead\n",
      "\n",
      "See the caveats in the documentation: https://pandas.pydata.org/pandas-docs/stable/user_guide/indexing.html#returning-a-view-versus-a-copy\n",
      "  self._setitem_single_column(loc, value[:, i].tolist(), pi)\n"
     ]
    }
   ],
   "source": [
    "# Нормируем числовые данные, используя StandardScaler\n",
    "\n",
    "numeric = ['CreditScore', 'Age', 'Balance', 'EstimatedSalary', 'Tenure','NumOfProducts']\n",
    "scaler = StandardScaler()\n",
    "scaler.fit(features_train[numeric])\n",
    "features_train[numeric] = scaler.transform(features_train[numeric])\n",
    "features_valid[numeric] = scaler.transform(features_valid[numeric])\n",
    "features_test[numeric]= scaler.transform(features_test[numeric])\n",
    "\n",
    "print(features_train.shape)\n",
    "print(features_valid.shape)\n",
    "print(features_test.shape)"
   ]
  },
  {
   "cell_type": "markdown",
   "metadata": {},
   "source": [
    "Построим модели без проверки на дисбаланс признаков"
   ]
  },
  {
   "cell_type": "code",
   "execution_count": 13,
   "metadata": {},
   "outputs": [
    {
     "name": "stdout",
     "output_type": "stream",
     "text": [
      "F1: 0.27699530516431925\n",
      "Площадь ROC-кривой: 0.7394562283172168\n"
     ]
    }
   ],
   "source": [
    "#модель логистической регрессии\n",
    "model = LogisticRegression(random_state=12345, solver='liblinear')\n",
    "model.fit(features_train, target_train)\n",
    "predicted_valid = model.predict(features_valid)\n",
    "\n",
    "print(\"F1:\", f1_score(target_valid, predicted_valid))\n",
    "#print(\"ROC_auc:\", roc_auc_score(target_valid, predicted_valid))\n",
    "\n",
    "probabilities_valid = model.predict_proba(features_valid)\n",
    "probabilities_one = probabilities_valid[:, 1]\n",
    "print('Площадь ROC-кривой:', roc_auc_score(target_valid, probabilities_one))\n"
   ]
  },
  {
   "cell_type": "code",
   "execution_count": 14,
   "metadata": {},
   "outputs": [
    {
     "name": "stdout",
     "output_type": "stream",
     "text": [
      "Лучшая точность 0.5584158415841584 Количество деревьев: 30 Оптимальная глубина: 13\n"
     ]
    }
   ],
   "source": [
    "# модель случайного леса  - подбор параметров\n",
    "\n",
    "best_model = None\n",
    "best_result = 0\n",
    "best_est = 0\n",
    "best_depth = 0\n",
    "for est in range(10, 51, 10):\n",
    "    for depth in range (1, 101):\n",
    "        model = RandomForestClassifier(random_state=12345, n_estimators=est, max_depth=depth )\n",
    "        \n",
    "        model.fit(features_train, target_train)\n",
    "        predictions_valid = model.predict(features_valid) \n",
    "        \n",
    "        result = f1_score(target_valid, predictions_valid)\n",
    "        if result > best_result:\n",
    "            best_model = model\n",
    "            best_est = est\n",
    "            best_depth = depth\n",
    "            best_result = result\n",
    "print('Лучшая точность', best_result,\"Количество деревьев:\", best_est, \"Оптимальная глубина:\", best_depth)"
   ]
  },
  {
   "cell_type": "code",
   "execution_count": 15,
   "metadata": {},
   "outputs": [
    {
     "name": "stdout",
     "output_type": "stream",
     "text": [
      "F1: 0.5090909090909091\n",
      "Площадь ROC-кривой: 0.8440140256251676\n"
     ]
    }
   ],
   "source": [
    "# модель случайного леса\n",
    "model = RandomForestClassifier(random_state=12345, n_estimators=40, max_depth = 20)\n",
    "model.fit(features_train, target_train)\n",
    "predicted_valid = model.predict(features_valid)\n",
    "\n",
    "print(\"F1:\", f1_score(target_valid, predicted_valid))\n",
    "\n",
    "probabilities_valid = model.predict_proba(features_valid)\n",
    "probabilities_one = probabilities_valid[:, 1]\n",
    "print('Площадь ROC-кривой:', roc_auc_score(target_valid, probabilities_one))"
   ]
  },
  {
   "cell_type": "code",
   "execution_count": 16,
   "metadata": {},
   "outputs": [
    {
     "name": "stdout",
     "output_type": "stream",
     "text": [
      "CPU times: user 735 ms, sys: 7.94 ms, total: 743 ms\n",
      "Wall time: 749 ms\n"
     ]
    },
    {
     "data": {
      "text/plain": [
       "RandomForestClassifier(random_state=12345)"
      ]
     },
     "execution_count": 16,
     "metadata": {},
     "output_type": "execute_result"
    }
   ],
   "source": [
    "%%time\n",
    "\n",
    "model = RandomForestClassifier(n_estimators=100, random_state=12345)\n",
    "model.fit(features_train, target_train)"
   ]
  },
  {
   "cell_type": "code",
   "execution_count": 17,
   "metadata": {},
   "outputs": [
    {
     "name": "stdout",
     "output_type": "stream",
     "text": [
      "Лучшая точность 0.5578747628083492 Оптимальная глубина: 5\n"
     ]
    }
   ],
   "source": [
    "# модель решающего дерева, подбор параметров\n",
    "\n",
    "\n",
    "best_model = None\n",
    "best_result = 0\n",
    "best_depth = 0\n",
    "for depth in range (1, 101):\n",
    "    model = DecisionTreeClassifier(random_state=12345, max_depth=depth )\n",
    "    model.fit(features_train, target_train)\n",
    "    predictions_valid = model.predict(features_valid) \n",
    "        \n",
    "    result = f1_score(target_valid, predictions_valid)\n",
    "    if result > best_result:\n",
    "        best_model = model\n",
    "        best_est = est\n",
    "        best_depth = depth\n",
    "        best_result = result\n",
    "print('Лучшая точность', best_result, \"Оптимальная глубина:\", best_depth)\n"
   ]
  },
  {
   "cell_type": "code",
   "execution_count": 18,
   "metadata": {},
   "outputs": [
    {
     "name": "stdout",
     "output_type": "stream",
     "text": [
      "F1: 0.5578747628083492\n",
      "Площадь ROC-кривой: 0.8464653248004588\n"
     ]
    }
   ],
   "source": [
    "# модель решающего дерева\n",
    "model = DecisionTreeClassifier(random_state  = 12345, max_depth = 5)\n",
    "model.fit(features_train, target_train)\n",
    "predicted_valid = model.predict(features_valid)\n",
    "\n",
    "print(\"F1:\", f1_score(target_valid, predicted_valid))\n",
    "\n",
    "probabilities_valid = model.predict_proba(features_valid)\n",
    "probabilities_one = probabilities_valid[:, 1]\n",
    "print('Площадь ROC-кривой:', roc_auc_score(target_valid, probabilities_one))"
   ]
  },
  {
   "cell_type": "markdown",
   "metadata": {},
   "source": [
    "Без проверки на дисбаланс классов пока выигрывает модель случайного леса.\n",
    "<br>**модель логистической регрессии**\n",
    "<br>F1: 0.29213483146067415\n",
    "<br>ROC_auc: 0.5786211980690115\n",
    "\n",
    "<br>**модель случайного леса**\n",
    "<br>F1: 0.5609284332688589\n",
    "<br>ROC_auc: 0.847881424540597\n",
    "\n",
    "<br>**модель решающего дерева**\n",
    "<br>F1: 0.5568181818181818\n",
    "<br>ROC_auc: 0.8461799813664103"
   ]
  },
  {
   "cell_type": "markdown",
   "metadata": {},
   "source": [
    "## Борьба с дисбалансом"
   ]
  },
  {
   "cell_type": "code",
   "execution_count": 19,
   "metadata": {},
   "outputs": [
    {
     "data": {
      "text/plain": [
       "((7963, 11), (2037, 11))"
      ]
     },
     "execution_count": 19,
     "metadata": {},
     "output_type": "execute_result"
    }
   ],
   "source": [
    "# Посмотрим количество объектов отрицательного и положительно класса\n",
    "features[target == 0].shape, features[target == 1].shape"
   ]
  },
  {
   "cell_type": "markdown",
   "metadata": {},
   "source": [
    "Объектов отрицательного класса почти в 4 раза больше , чем положительного. "
   ]
  },
  {
   "cell_type": "markdown",
   "metadata": {},
   "source": [
    "1) Увеличим выборку"
   ]
  },
  {
   "cell_type": "code",
   "execution_count": 20,
   "metadata": {},
   "outputs": [],
   "source": [
    "def upsample(features, target, repeat):\n",
    "    features_zeros = features[target == 0]\n",
    "    features_ones = features[target == 1]\n",
    "    target_zeros = target[target == 0]\n",
    "    target_ones = target[target == 1]\n",
    "\n",
    "    features_upsampled = pd.concat([features_zeros] + [features_ones] * repeat)\n",
    "    target_upsampled = pd.concat([target_zeros] + [target_ones] * repeat)\n",
    "    \n",
    "    features_upsampled, target_upsampled = shuffle(\n",
    "        features_upsampled, target_upsampled, random_state=12345)\n",
    "    \n",
    "    return features_upsampled, target_upsampled\n",
    "\n",
    "features_upsampled, target_upsampled = upsample(features_train, target_train, 4)"
   ]
  },
  {
   "cell_type": "code",
   "execution_count": 21,
   "metadata": {},
   "outputs": [
    {
     "name": "stdout",
     "output_type": "stream",
     "text": [
      "F1: 0.48354143019296253\n",
      "Площадь ROC-кривой: 0.7439659817539462\n"
     ]
    }
   ],
   "source": [
    "#модель логистической регрессии с увеличенной выборкой\n",
    "model = LogisticRegression(random_state=12345, solver='liblinear')\n",
    "model.fit(features_upsampled, target_upsampled)\n",
    "predicted_valid = model.predict(features_valid)\n",
    "\n",
    "print(\"F1:\", f1_score(target_valid, predicted_valid))\n",
    "#print(\"ROC_auc:\", roc_auc_score(target_valid, predicted_valid))\n",
    "\n",
    "probabilities_valid = model.predict_proba(features_valid)\n",
    "probabilities_one = probabilities_valid[:, 1]\n",
    "print('Площадь ROC-кривой:', roc_auc_score(target_valid, probabilities_one))"
   ]
  },
  {
   "cell_type": "code",
   "execution_count": 22,
   "metadata": {},
   "outputs": [
    {
     "name": "stdout",
     "output_type": "stream",
     "text": [
      "Лучшая точность 0.585247883917775 Оптимальная глубина: 7\n"
     ]
    }
   ],
   "source": [
    "# модель решающего дерева с увеличенной выборкой - подбор параметров\n",
    "best_model = None\n",
    "best_result = 0\n",
    "best_depth = 0\n",
    "for depth in range (1, 101):\n",
    "    model = DecisionTreeClassifier(random_state=12345, max_depth=depth )\n",
    "    model.fit(features_upsampled, target_upsampled)\n",
    "    predictions_valid = model.predict(features_valid) \n",
    "        \n",
    "    result = f1_score(target_valid, predictions_valid)\n",
    "    if result > best_result:\n",
    "        best_model = model\n",
    "        best_est = est\n",
    "        best_depth = depth\n",
    "        best_result = result\n",
    "print('Лучшая точность', best_result, \"Оптимальная глубина:\", best_depth)"
   ]
  },
  {
   "cell_type": "code",
   "execution_count": 23,
   "metadata": {},
   "outputs": [
    {
     "name": "stdout",
     "output_type": "stream",
     "text": [
      "F1: 0.585247883917775\n",
      "Площадь ROC-кривой: 0.8204672200117323\n"
     ]
    }
   ],
   "source": [
    "# модель решающего дерева с увеличенной выборкой\n",
    "model = DecisionTreeClassifier(random_state  = 12345, max_depth = 7)\n",
    "model.fit(features_upsampled, target_upsampled)\n",
    "predicted_valid = model.predict(features_valid)\n",
    "\n",
    "print(\"F1:\", f1_score(target_valid, predicted_valid))\n",
    "\n",
    "probabilities_valid = model.predict_proba(features_valid)\n",
    "probabilities_one = probabilities_valid[:, 1]\n",
    "print('Площадь ROC-кривой:', roc_auc_score(target_valid, probabilities_one))"
   ]
  },
  {
   "cell_type": "code",
   "execution_count": 24,
   "metadata": {},
   "outputs": [],
   "source": [
    "# модель решающего дерева, подбор параметров\n",
    "\n",
    "#best_model = None\n",
    "#best_result = 0\n",
    "#best_depth = 0\n",
    "#for depth in range (1, 101):\n",
    "#    model = DecisionTreeClassifier(random_state=12345, max_depth=depth, class_weight  = 'balanced' )\n",
    "#    model.fit(features_train, target_train)\n",
    "#    predictions_valid = model.predict(features_valid) \n",
    "#        \n",
    "#    result = f1_score(target_valid, predictions_valid)\n",
    "#    if result > best_result:\n",
    "#        best_model = model\n",
    "#        best_est = est\n",
    "#        best_depth = depth\n",
    "#        best_result = result\n",
    "#print('Лучшая точность', best_result, \"Оптимальная глубина:\", best_depth)"
   ]
  },
  {
   "cell_type": "code",
   "execution_count": 25,
   "metadata": {},
   "outputs": [],
   "source": [
    "# модель решающего дерева со сбалансированной выборкой\n",
    "\n",
    "#model = DecisionTreeClassifier(random_state  = 12345, max_depth = 5, class_weight = 'balanced')\n",
    "#model.fit(features_train, target_train)\n",
    "#predicted_valid = model.predict(features_valid)\n",
    "\n",
    "#print(\"F1:\", f1_score(target_valid, predicted_valid))\n",
    "#print(\"ROC_auc:\", roc_auc_score(target_valid, predicted_valid))"
   ]
  },
  {
   "cell_type": "code",
   "execution_count": 26,
   "metadata": {},
   "outputs": [
    {
     "name": "stdout",
     "output_type": "stream",
     "text": [
      "Лучшая точность 0.625 Количество деревьев: 10 Оптимальная глубина: 7\n"
     ]
    }
   ],
   "source": [
    "# модель случайного леса с увеличенной выборкой - подбор параметров\n",
    "best_model = None\n",
    "best_result = 0\n",
    "best_est = 0\n",
    "best_depth = 0\n",
    "for est in range(10, 51, 10):\n",
    "    for depth in range (1, 101):\n",
    "        model = RandomForestClassifier(random_state=12345, n_estimators=est, max_depth=depth )\n",
    "        \n",
    "        model.fit(features_upsampled, target_upsampled)\n",
    "        predictions_valid = model.predict(features_valid) \n",
    "        \n",
    "        result = f1_score(target_valid, predictions_valid)\n",
    "        if result > best_result:\n",
    "            best_model = model\n",
    "            best_est = est\n",
    "            best_depth = depth\n",
    "            best_result = result\n",
    "print('Лучшая точность', best_result,\"Количество деревьев:\", best_est, \"Оптимальная глубина:\", best_depth)"
   ]
  },
  {
   "cell_type": "code",
   "execution_count": 27,
   "metadata": {},
   "outputs": [
    {
     "name": "stdout",
     "output_type": "stream",
     "text": [
      "F1: 0.6135770234986946\n",
      "Площадь ROC-кривой: 0.8550017386041795\n"
     ]
    }
   ],
   "source": [
    "# модель случайного леса с увеличенной выборкой \n",
    "model = RandomForestClassifier(n_estimators  = 30, random_state  = 12345, max_depth = 7)\n",
    "model.fit(features_upsampled, target_upsampled)\n",
    "predicted_valid = model.predict(features_valid)\n",
    "\n",
    "print(\"F1:\", f1_score(target_valid, predicted_valid))\n",
    "\n",
    "probabilities_valid = model.predict_proba(features_valid)\n",
    "probabilities_one = probabilities_valid[:, 1]\n",
    "print('Площадь ROC-кривой:', roc_auc_score(target_valid, probabilities_one))"
   ]
  },
  {
   "cell_type": "code",
   "execution_count": 28,
   "metadata": {},
   "outputs": [],
   "source": [
    "# модель случайного леса со сбалансированной выборкой \n",
    "#model = RandomForestClassifier(n_estimators  = 60, random_state  = 12345, max_depth = 13, class_weight = 'balanced' )\n",
    "#model.fit(features_train, target_train)\n",
    "#predicted_valid = model.predict(features_valid)\n",
    "\n",
    "#print(\"F1:\", f1_score(target_valid, predicted_valid))\n",
    "#print(\"ROC_auc:\", roc_auc_score(target_valid, predicted_valid)) "
   ]
  },
  {
   "cell_type": "markdown",
   "metadata": {},
   "source": [
    "Лучший результат показывает модель случайного леса с увеличенной выборкой .\n",
    "\n",
    "модель случайного леса с увеличенной выборкой\n",
    "<br>F1: 0.6225165562913907\n",
    "<br>ROC_auc: 00.8516187599372511\n",
    "\n",
    "модель решающего дерева с увеличенной выборкой\n",
    "<br>F1: 0.5825242718446602\n",
    "<br>Площадь ROC-кривой: 0.8142507146857638\n",
    "\n",
    "модель логистической регрессии с увеличенной выборкой\n",
    "<br>F1: 0.48574686431014824\n",
    "<br>Площадь ROC-кривой: 0.7445101250467829"
   ]
  },
  {
   "cell_type": "markdown",
   "metadata": {},
   "source": [
    "1) Уменьшим выборку"
   ]
  },
  {
   "cell_type": "code",
   "execution_count": 29,
   "metadata": {},
   "outputs": [],
   "source": [
    "def downsample(features, target, fraction):\n",
    "    features_zeros = features[target == 0]\n",
    "    features_ones = features[target == 1]\n",
    "    target_zeros = target[target == 0]\n",
    "    target_ones = target[target == 1]\n",
    "\n",
    "    features_downsampled = pd.concat(\n",
    "        [features_zeros.sample(frac=fraction, random_state=12345)] + [features_ones])\n",
    "    target_downsampled = pd.concat(\n",
    "        [target_zeros.sample(frac=fraction, random_state=12345)] + [target_ones])\n",
    "    \n",
    "    features_downsampled, target_downsampled = shuffle(\n",
    "        features_downsampled, target_downsampled, random_state=12345)\n",
    "    \n",
    "    return features_downsampled, target_downsampled\n",
    "\n",
    "features_downsampled, target_downsampled = downsample(features_train, target_train, 0.25)"
   ]
  },
  {
   "cell_type": "code",
   "execution_count": 30,
   "metadata": {},
   "outputs": [
    {
     "name": "stdout",
     "output_type": "stream",
     "text": [
      "F1: 0.4805491990846682\n",
      "Площадь ROC-кривой: 0.7440721560549877\n"
     ]
    }
   ],
   "source": [
    "#модель логистической регрессии с уменьшенной выборкой\n",
    "model = LogisticRegression(random_state=12345, solver='liblinear')\n",
    "model.fit(features_downsampled, target_downsampled)\n",
    "predicted_valid = model.predict(features_valid)\n",
    "\n",
    "print(\"F1:\", f1_score(target_valid, predicted_valid))\n",
    "#print(\"ROC_auc:\", roc_auc_score(target_valid, predicted_valid))\n",
    "\n",
    "probabilities_valid = model.predict_proba(features_valid)\n",
    "probabilities_one = probabilities_valid[:, 1]\n",
    "print('Площадь ROC-кривой:', roc_auc_score(target_valid, probabilities_one))"
   ]
  },
  {
   "cell_type": "code",
   "execution_count": 31,
   "metadata": {},
   "outputs": [
    {
     "name": "stdout",
     "output_type": "stream",
     "text": [
      "Лучшая точность 0.5801526717557252 Оптимальная глубина: 6\n"
     ]
    }
   ],
   "source": [
    "# модель решающего дерева с уменьшенной выборкой - подбор параметров\n",
    "best_model = None\n",
    "best_result = 0\n",
    "best_depth = 0\n",
    "for depth in range (1, 101):\n",
    "    model = DecisionTreeClassifier(random_state=12345, max_depth=depth )\n",
    "    model.fit(features_downsampled, target_downsampled)\n",
    "    predictions_valid = model.predict(features_valid) \n",
    "        \n",
    "    result = f1_score(target_valid, predictions_valid)\n",
    "    if result > best_result:\n",
    "        best_model = model\n",
    "        best_est = est\n",
    "        best_depth = depth\n",
    "        best_result = result\n",
    "print('Лучшая точность', best_result, \"Оптимальная глубина:\", best_depth)"
   ]
  },
  {
   "cell_type": "code",
   "execution_count": 32,
   "metadata": {},
   "outputs": [
    {
     "name": "stdout",
     "output_type": "stream",
     "text": [
      "F1: 0.5801526717557252\n",
      "Площадь ROC-кривой: 0.8352506642529709\n"
     ]
    }
   ],
   "source": [
    "# модель решающего дерева с уменьшенной выборкой\n",
    "model = DecisionTreeClassifier(random_state  = 12345, max_depth = 6)\n",
    "model.fit(features_downsampled, target_downsampled)\n",
    "predicted_valid = model.predict(features_valid)\n",
    "\n",
    "print(\"F1:\", f1_score(target_valid, predicted_valid))\n",
    "\n",
    "probabilities_valid = model.predict_proba(features_valid)\n",
    "probabilities_one = probabilities_valid[:, 1]\n",
    "print('Площадь ROC-кривой:', roc_auc_score(target_valid, probabilities_one))"
   ]
  },
  {
   "cell_type": "code",
   "execution_count": 33,
   "metadata": {},
   "outputs": [
    {
     "name": "stdout",
     "output_type": "stream",
     "text": [
      "Лучшая точность 0.6176836861768368 Количество деревьев: 50 Оптимальная глубина: 8\n"
     ]
    }
   ],
   "source": [
    "# модель случайного леса с уменьшенной выборкой - подбор параметров\n",
    "best_model = None\n",
    "best_result = 0\n",
    "best_est = 0\n",
    "best_depth = 0\n",
    "for est in range(10, 51, 10):\n",
    "    for depth in range (1, 101):\n",
    "        model = RandomForestClassifier(random_state=12345, n_estimators=est, max_depth=depth )\n",
    "        \n",
    "        model.fit(features_downsampled, target_downsampled)\n",
    "        predictions_valid = model.predict(features_valid) \n",
    "        \n",
    "        result = f1_score(target_valid, predictions_valid)\n",
    "        if result > best_result:\n",
    "            best_model = model\n",
    "            best_est = est\n",
    "            best_depth = depth\n",
    "            best_result = result\n",
    "print('Лучшая точность', best_result,\"Количество деревьев:\", best_est, \"Оптимальная глубина:\", best_depth)"
   ]
  },
  {
   "cell_type": "code",
   "execution_count": 34,
   "metadata": {},
   "outputs": [
    {
     "name": "stdout",
     "output_type": "stream",
     "text": [
      "F1: 0.6132665832290363\n",
      "Площадь ROC-кривой: 0.8524044497649567\n"
     ]
    }
   ],
   "source": [
    "# модель случайного леса с уменьшенной выборкой \n",
    "model = RandomForestClassifier(n_estimators  = 40, random_state  = 12345, max_depth = 8)\n",
    "model.fit(features_downsampled, target_downsampled)\n",
    "predicted_valid = model.predict(features_valid)\n",
    "\n",
    "print(\"F1:\", f1_score(target_valid, predicted_valid))\n",
    "\n",
    "probabilities_valid = model.predict_proba(features_valid)\n",
    "probabilities_one = probabilities_valid[:, 1]\n",
    "print('Площадь ROC-кривой:', roc_auc_score(target_valid, probabilities_one))"
   ]
  },
  {
   "cell_type": "markdown",
   "metadata": {},
   "source": [
    "**Лучший результат показывает случайного леса с уменьшенной выборкой .**\n",
    "\n",
    "модель случайного леса с уменьшенной выборкой\n",
    "<br>F1: 0.6091245376078915\n",
    "<br>Площадь ROC-кривой: 0.8528238382540697\n",
    "\n",
    "модель решающего дерева с уменьшенной выборкой\n",
    "<br>F1: 0.5742821473158551\n",
    "<br>Площадь ROC-кривой: 0.8400510698388008\n",
    "\n",
    "модель логистической регрессии с уменьшенной выборкой\n",
    "<br>F1: 0.48220436280137774\n",
    "<br>Площадь ROC-кривой: 0.7450569226971456"
   ]
  },
  {
   "cell_type": "markdown",
   "metadata": {},
   "source": [
    "`**Уменьшение выборки приводит к ухудшению метрик.**\n",
    "\n",
    "модель случайного леса с уменьшенной выборкой\n",
    "<br>F1: 0.6091245376078915\n",
    "<br>Площадь ROC-кривой: 0.8528238382540697\n",
    "\n",
    "модель случайного леса с увеличенной выборкой\n",
    "<br>F1: 0.6225165562913907\n",
    "<br>ROC_auc: 00.8516187599372511"
   ]
  },
  {
   "cell_type": "markdown",
   "metadata": {},
   "source": [
    "`**Для тестирования выберем модель случайного леса с увеличенной выборкой, так как у данной модели лучшие метрики.**\n",
    "\n",
    "\n",
    "модель случайного леса с увеличенной выборкой\n",
    "<br>F1: 0.6225165562913907\n",
    "<br>ROC_auc: 00.8516187599372511\n",
    "    \n",
    "<br>Количество деревьев: 30 Оптимальная глубина: 7"
   ]
  },
  {
   "cell_type": "markdown",
   "metadata": {},
   "source": [
    "## Тестирование модели"
   ]
  },
  {
   "cell_type": "code",
   "execution_count": 35,
   "metadata": {},
   "outputs": [
    {
     "name": "stdout",
     "output_type": "stream",
     "text": [
      "F1: 0.3384564260197724\n",
      "ROC_auc: 0.5\n",
      "accuracy: 0.2037\n"
     ]
    }
   ],
   "source": [
    "target_pred_constant = pd.Series([1]*len(target))\n",
    "\n",
    "print(\"F1:\", f1_score(target, target_pred_constant))\n",
    "print(\"ROC_auc:\", roc_auc_score(target, target_pred_constant))\n",
    "print(\"accuracy:\", accuracy_score(target, target_pred_constant))"
   ]
  },
  {
   "cell_type": "markdown",
   "metadata": {},
   "source": [
    "Константная модель которая всегда прогнозирует 1 явно уступает в метриках обученным моделям"
   ]
  },
  {
   "cell_type": "code",
   "execution_count": 37,
   "metadata": {},
   "outputs": [
    {
     "name": "stdout",
     "output_type": "stream",
     "text": [
      "F1: 0.6219839142091153\n",
      "Площадь ROC-кривой: 0.8582447556457184\n"
     ]
    }
   ],
   "source": [
    "\n",
    "# проверим результаты на тестовой выборке\n",
    "model = RandomForestClassifier(n_estimators  = 30, random_state  = 12345, max_depth = 7)\n",
    "model.fit(features_upsampled, target_upsampled)\n",
    "predicted_valid = model.predict(features_test)\n",
    "\n",
    "print(\"F1:\", f1_score(target_test, predicted_valid))\n",
    "\n",
    "probabilities_valid = model.predict_proba(features_test)\n",
    "probabilities_one = probabilities_valid[:, 1]\n",
    "print('Площадь ROC-кривой:', roc_auc_score(target_test, probabilities_one))"
   ]
  },
  {
   "cell_type": "code",
   "execution_count": 40,
   "metadata": {},
   "outputs": [
    {
     "data": {
      "image/png": "[encoded data removed]",
      "text/plain": [
       "<Figure size 432x288 with 1 Axes>"
      ]
     },
     "metadata": {
      "needs_background": "light"
     },
     "output_type": "display_data"
    }
   ],
   "source": [
    "fpr, tpr, thresholds = roc_curve(target_test, probabilities_one)\n",
    "\n",
    "plt.figure()\n",
    "plt.plot(fpr, tpr)\n",
    "plt.plot([0, 1], [0, 1], linestyle='--')\n",
    "plt.xlim([0.0, 1.0])\n",
    "plt.ylim([0.0, 1.0])\n",
    "plt.xlabel('False Positive Rate')\n",
    "plt.ylabel('True Positive Rate')\n",
    "plt.title('ROC-кривая')\n",
    "\n",
    "plt.show()"
   ]
  },
  {
   "cell_type": "code",
   "execution_count": 41,
   "metadata": {},
   "outputs": [
    {
     "name": "stdout",
     "output_type": "stream",
     "text": [
      "Полнота: 0.755700325732899\n",
      "Точность: 0.5284738041002278\n"
     ]
    }
   ],
   "source": [
    "precision = precision_score(target_test, predicted_valid) \n",
    "recall = recall_score(target_test, predicted_valid)\n",
    "\n",
    "print(\"Полнота:\", recall)\n",
    "print(\"Точность:\", precision)"
   ]
  },
  {
   "cell_type": "markdown",
   "metadata": {},
   "source": [
    "\n",
    "**Вывод**\n",
    "Лучший результат показывает модель случайного леса увеличенной выборкой .\n",
    "\n",
    "\n",
    "F1: 0.6219839142091153\n",
    "Площадь ROC-кривой: 0.8582447556457184\n",
    "\n",
    "Мера F1 показывает, что прогноз класса 1 удался. ROC кривая: меткрика лучше,чем у случайной модели, но до идеальной можно продолжить работать с данными. Recall = 0.75, что значит, что 75% из ушедших клиентов мы сможем определить правильно"
   ]
  },
  {
   "cell_type": "markdown",
   "metadata": {},
   "source": [
    "<div style=\"border:solid Chocolate 2px; padding: 40px\">\n",
    "\n",
    "**Комментарий ко второй проверке**\n",
    "\n",
    "Спасибо за отличную доработку. Критичных комментариев нет. \n",
    "\n",
    "Желаю удачи в дальнейшей учебе!\n",
    "\n",
    "</div>\n"
   ]
  },
  {
   "cell_type": "markdown",
   "metadata": {},
   "source": [
    "## Чек-лист готовности проекта"
   ]
  },
  {
   "cell_type": "markdown",
   "metadata": {},
   "source": [
    "Поставьте 'x' в выполненных пунктах. Далее нажмите Shift+Enter."
   ]
  },
  {
   "cell_type": "markdown",
   "metadata": {},
   "source": [
    "- [x]  Jupyter Notebook открыт\n",
    "- [ ]  Весь код выполняется без ошибок\n",
    "- [ ]  Ячейки с кодом расположены в порядке исполнения\n",
    "- [ ]  Выполнен шаг 1: данные подготовлены\n",
    "- [ ]  Выполнен шаг 2: задача исследована\n",
    "    - [ ]  Исследован баланс классов\n",
    "    - [ ]  Изучены модели без учёта дисбаланса\n",
    "    - [ ]  Написаны выводы по результатам исследования\n",
    "- [ ]  Выполнен шаг 3: учтён дисбаланс\n",
    "    - [ ]  Применено несколько способов борьбы с дисбалансом\n",
    "    - [ ]  Написаны выводы по результатам исследования\n",
    "- [ ]  Выполнен шаг 4: проведено тестирование\n",
    "- [ ]  Удалось достичь *F1*-меры не менее 0.59\n",
    "- [ ]  Исследована метрика *AUC-ROC*"
   ]
  },
  {
   "cell_type": "code",
   "execution_count": null,
   "metadata": {},
   "outputs": [],
   "source": []
  }
 ],
 "metadata": {
  "ExecuteTimeLog": [
   {
    "duration": 399,
    "start_time": "2023-02-14T15:43:20.724Z"
   },
   {
    "duration": 721,
    "start_time": "2023-02-14T15:43:47.314Z"
   },
   {
    "duration": 1366,
    "start_time": "2023-02-14T15:44:21.969Z"
   },
   {
    "duration": 1284,
    "start_time": "2023-02-14T15:45:02.579Z"
   },
   {
    "duration": 85,
    "start_time": "2023-02-14T15:48:16.107Z"
   },
   {
    "duration": 66,
    "start_time": "2023-02-14T15:48:37.255Z"
   },
   {
    "duration": 4,
    "start_time": "2023-02-14T15:57:52.855Z"
   },
   {
    "duration": 6,
    "start_time": "2023-02-14T15:59:29.121Z"
   },
   {
    "duration": 8,
    "start_time": "2023-02-14T16:00:07.139Z"
   },
   {
    "duration": 9,
    "start_time": "2023-02-14T16:00:28.965Z"
   },
   {
    "duration": 13,
    "start_time": "2023-02-14T16:01:14.753Z"
   },
   {
    "duration": 10,
    "start_time": "2023-02-14T16:01:29.589Z"
   },
   {
    "duration": 52,
    "start_time": "2023-02-15T14:39:48.265Z"
   },
   {
    "duration": 1149,
    "start_time": "2023-02-15T14:39:54.780Z"
   },
   {
    "duration": 106,
    "start_time": "2023-02-15T14:39:55.931Z"
   },
   {
    "duration": 4,
    "start_time": "2023-02-15T14:39:58.450Z"
   },
   {
    "duration": 70,
    "start_time": "2023-02-15T14:46:49.449Z"
   },
   {
    "duration": 8,
    "start_time": "2023-02-15T14:46:55.582Z"
   },
   {
    "duration": 1256,
    "start_time": "2023-02-15T15:03:12.223Z"
   },
   {
    "duration": 202,
    "start_time": "2023-02-15T15:03:30.984Z"
   },
   {
    "duration": 143,
    "start_time": "2023-02-15T15:07:08.253Z"
   },
   {
    "duration": 121,
    "start_time": "2023-02-15T15:07:18.072Z"
   },
   {
    "duration": 7,
    "start_time": "2023-02-15T15:10:22.651Z"
   },
   {
    "duration": 19,
    "start_time": "2023-02-15T15:22:07.824Z"
   },
   {
    "duration": 3,
    "start_time": "2023-02-15T15:22:26.033Z"
   },
   {
    "duration": 23,
    "start_time": "2023-02-15T15:22:30.896Z"
   },
   {
    "duration": 15,
    "start_time": "2023-02-15T15:23:15.056Z"
   },
   {
    "duration": 5,
    "start_time": "2023-02-15T15:23:51.560Z"
   },
   {
    "duration": 156,
    "start_time": "2023-02-15T15:26:37.199Z"
   },
   {
    "duration": 159,
    "start_time": "2023-02-15T15:27:25.387Z"
   },
   {
    "duration": 737,
    "start_time": "2023-02-15T15:49:52.206Z"
   },
   {
    "duration": 11,
    "start_time": "2023-02-15T15:50:14.834Z"
   },
   {
    "duration": 17,
    "start_time": "2023-02-15T15:54:15.891Z"
   },
   {
    "duration": 63,
    "start_time": "2023-02-15T15:54:40.802Z"
   },
   {
    "duration": 131,
    "start_time": "2023-02-15T15:54:45.952Z"
   },
   {
    "duration": 4,
    "start_time": "2023-02-15T15:56:11.611Z"
   },
   {
    "duration": 658,
    "start_time": "2023-02-15T15:56:18.203Z"
   },
   {
    "duration": 3,
    "start_time": "2023-02-15T15:56:59.129Z"
   },
   {
    "duration": 517,
    "start_time": "2023-02-15T16:00:03.557Z"
   },
   {
    "duration": 807,
    "start_time": "2023-02-15T16:00:34.835Z"
   },
   {
    "duration": 1015,
    "start_time": "2023-02-15T16:24:57.952Z"
   },
   {
    "duration": 1650,
    "start_time": "2023-02-15T19:39:36.794Z"
   },
   {
    "duration": 119,
    "start_time": "2023-02-15T19:39:40.346Z"
   },
   {
    "duration": 4,
    "start_time": "2023-02-15T19:39:43.272Z"
   },
   {
    "duration": 20,
    "start_time": "2023-02-15T19:39:44.902Z"
   },
   {
    "duration": 18,
    "start_time": "2023-02-15T19:40:23.258Z"
   },
   {
    "duration": 7,
    "start_time": "2023-02-15T19:46:46.320Z"
   },
   {
    "duration": 136,
    "start_time": "2023-02-15T19:46:57.645Z"
   },
   {
    "duration": 118,
    "start_time": "2023-02-15T19:47:16.573Z"
   },
   {
    "duration": 10,
    "start_time": "2023-02-15T19:47:26.427Z"
   },
   {
    "duration": 4,
    "start_time": "2023-02-15T19:47:34.723Z"
   },
   {
    "duration": 120,
    "start_time": "2023-02-15T19:47:41.845Z"
   },
   {
    "duration": 16,
    "start_time": "2023-02-15T19:48:42.794Z"
   },
   {
    "duration": 15,
    "start_time": "2023-02-15T19:54:01.020Z"
   },
   {
    "duration": 13,
    "start_time": "2023-02-15T19:55:14.465Z"
   },
   {
    "duration": 1414,
    "start_time": "2023-02-15T19:55:45.451Z"
   },
   {
    "duration": 61,
    "start_time": "2023-02-15T19:55:47.522Z"
   },
   {
    "duration": 5,
    "start_time": "2023-02-15T19:55:50.358Z"
   },
   {
    "duration": 21,
    "start_time": "2023-02-15T19:55:57.065Z"
   },
   {
    "duration": 11,
    "start_time": "2023-02-15T19:56:13.740Z"
   },
   {
    "duration": 7,
    "start_time": "2023-02-15T19:56:25.418Z"
   },
   {
    "duration": 134,
    "start_time": "2023-02-15T19:56:26.709Z"
   },
   {
    "duration": 6,
    "start_time": "2023-02-15T19:56:29.300Z"
   },
   {
    "duration": 124,
    "start_time": "2023-02-15T19:56:29.816Z"
   },
   {
    "duration": 11,
    "start_time": "2023-02-15T19:56:32.936Z"
   },
   {
    "duration": 623,
    "start_time": "2023-02-15T19:56:46.083Z"
   },
   {
    "duration": 1039,
    "start_time": "2023-02-15T19:56:54.958Z"
   },
   {
    "duration": 111,
    "start_time": "2023-02-15T19:59:46.736Z"
   },
   {
    "duration": 733,
    "start_time": "2023-02-15T20:00:09.972Z"
   },
   {
    "duration": 17,
    "start_time": "2023-02-15T20:00:42.317Z"
   },
   {
    "duration": 8,
    "start_time": "2023-02-15T20:03:07.183Z"
   },
   {
    "duration": 20,
    "start_time": "2023-02-15T20:03:14.633Z"
   },
   {
    "duration": 4788,
    "start_time": "2023-02-15T20:03:26.405Z"
   },
   {
    "duration": 807,
    "start_time": "2023-02-15T20:06:36.594Z"
   },
   {
    "duration": 11,
    "start_time": "2023-02-15T20:07:36.533Z"
   },
   {
    "duration": 3,
    "start_time": "2023-02-15T20:08:04.432Z"
   },
   {
    "duration": 11,
    "start_time": "2023-02-15T20:08:16.007Z"
   },
   {
    "duration": 24,
    "start_time": "2023-02-15T20:10:10.320Z"
   },
   {
    "duration": 24,
    "start_time": "2023-02-15T20:10:46.880Z"
   },
   {
    "duration": 66,
    "start_time": "2023-02-16T15:11:52.866Z"
   },
   {
    "duration": 1642,
    "start_time": "2023-02-16T15:12:38.905Z"
   },
   {
    "duration": 82,
    "start_time": "2023-02-16T15:12:53.739Z"
   },
   {
    "duration": 10,
    "start_time": "2023-02-16T15:13:30.499Z"
   },
   {
    "duration": 1593,
    "start_time": "2023-02-16T15:13:42.138Z"
   },
   {
    "duration": 202,
    "start_time": "2023-02-16T15:13:43.737Z"
   },
   {
    "duration": 5,
    "start_time": "2023-02-16T15:13:43.941Z"
   },
   {
    "duration": 37,
    "start_time": "2023-02-16T15:13:43.948Z"
   },
   {
    "duration": 6,
    "start_time": "2023-02-16T15:13:43.987Z"
   },
   {
    "duration": 152,
    "start_time": "2023-02-16T15:13:43.995Z"
   },
   {
    "duration": 9,
    "start_time": "2023-02-16T15:13:44.149Z"
   },
   {
    "duration": 155,
    "start_time": "2023-02-16T15:13:44.160Z"
   },
   {
    "duration": 642,
    "start_time": "2023-02-16T15:13:44.317Z"
   },
   {
    "duration": 1027,
    "start_time": "2023-02-16T15:13:44.961Z"
   },
   {
    "duration": 9,
    "start_time": "2023-02-16T15:13:45.989Z"
   },
   {
    "duration": 39,
    "start_time": "2023-02-16T15:13:45.999Z"
   },
   {
    "duration": 299,
    "start_time": "2023-02-16T15:13:46.040Z"
   },
   {
    "duration": 0,
    "start_time": "2023-02-16T15:13:46.340Z"
   },
   {
    "duration": 0,
    "start_time": "2023-02-16T15:13:46.342Z"
   },
   {
    "duration": 5,
    "start_time": "2023-02-16T15:18:25.345Z"
   },
   {
    "duration": 49,
    "start_time": "2023-02-16T15:18:38.516Z"
   },
   {
    "duration": 11,
    "start_time": "2023-02-16T15:25:56.816Z"
   },
   {
    "duration": 4,
    "start_time": "2023-02-16T15:26:18.537Z"
   },
   {
    "duration": 2139,
    "start_time": "2023-02-16T15:26:55.442Z"
   },
   {
    "duration": 1301,
    "start_time": "2023-02-16T15:27:48.078Z"
   },
   {
    "duration": 1253,
    "start_time": "2023-02-16T15:27:57.741Z"
   },
   {
    "duration": 547,
    "start_time": "2023-02-16T15:28:38.335Z"
   },
   {
    "duration": 2474,
    "start_time": "2023-02-16T15:29:59.820Z"
   },
   {
    "duration": 1014,
    "start_time": "2023-02-16T15:30:06.189Z"
   },
   {
    "duration": 2203,
    "start_time": "2023-02-16T15:46:05.944Z"
   },
   {
    "duration": 2325,
    "start_time": "2023-02-16T15:47:55.842Z"
   },
   {
    "duration": 156,
    "start_time": "2023-02-16T15:48:25.768Z"
   },
   {
    "duration": 161,
    "start_time": "2023-02-16T15:48:51.709Z"
   },
   {
    "duration": 11,
    "start_time": "2023-02-16T15:58:43.654Z"
   },
   {
    "duration": 82,
    "start_time": "2023-02-16T15:59:03.766Z"
   },
   {
    "duration": 11,
    "start_time": "2023-02-16T15:59:08.803Z"
   },
   {
    "duration": 4,
    "start_time": "2023-02-16T15:59:37.414Z"
   },
   {
    "duration": 59,
    "start_time": "2023-02-16T15:59:44.525Z"
   },
   {
    "duration": 7,
    "start_time": "2023-02-16T16:04:04.231Z"
   },
   {
    "duration": 25,
    "start_time": "2023-02-16T16:08:56.459Z"
   },
   {
    "duration": 4,
    "start_time": "2023-02-16T16:09:35.693Z"
   },
   {
    "duration": 18,
    "start_time": "2023-02-16T16:09:43.646Z"
   },
   {
    "duration": 87,
    "start_time": "2023-02-16T16:11:11.865Z"
   },
   {
    "duration": 52,
    "start_time": "2023-02-16T16:14:13.551Z"
   },
   {
    "duration": 12,
    "start_time": "2023-02-16T16:17:01.062Z"
   },
   {
    "duration": 88,
    "start_time": "2023-02-16T16:17:03.115Z"
   },
   {
    "duration": 72,
    "start_time": "2023-02-16T16:17:09.380Z"
   },
   {
    "duration": 2121,
    "start_time": "2023-02-16T16:18:56.580Z"
   },
   {
    "duration": 72,
    "start_time": "2023-02-16T16:19:47.085Z"
   },
   {
    "duration": 2209,
    "start_time": "2023-02-16T16:19:53.160Z"
   },
   {
    "duration": 159,
    "start_time": "2023-02-16T16:20:27.323Z"
   },
   {
    "duration": 228,
    "start_time": "2023-02-16T16:21:33.351Z"
   },
   {
    "duration": 352,
    "start_time": "2023-02-16T16:21:41.423Z"
   },
   {
    "duration": 754,
    "start_time": "2023-02-16T16:21:50.360Z"
   },
   {
    "duration": 1451,
    "start_time": "2023-02-16T16:21:56.130Z"
   },
   {
    "duration": 9084,
    "start_time": "2023-02-16T16:22:32.044Z"
   },
   {
    "duration": 80,
    "start_time": "2023-02-16T16:24:14.689Z"
   },
   {
    "duration": 4,
    "start_time": "2023-02-16T16:24:36.773Z"
   },
   {
    "duration": 5026,
    "start_time": "2023-02-16T16:24:59.501Z"
   },
   {
    "duration": 367,
    "start_time": "2023-02-16T16:25:31.657Z"
   },
   {
    "duration": 62,
    "start_time": "2023-02-16T16:25:39.369Z"
   },
   {
    "duration": 121,
    "start_time": "2023-02-16T16:25:49.026Z"
   },
   {
    "duration": 85,
    "start_time": "2023-02-16T16:31:04.199Z"
   },
   {
    "duration": 145,
    "start_time": "2023-02-16T16:31:13.559Z"
   },
   {
    "duration": 291,
    "start_time": "2023-02-16T16:31:18.325Z"
   },
   {
    "duration": 76,
    "start_time": "2023-02-16T16:31:24.725Z"
   },
   {
    "duration": 13,
    "start_time": "2023-02-16T16:33:34.994Z"
   },
   {
    "duration": 23,
    "start_time": "2023-02-16T16:35:11.055Z"
   },
   {
    "duration": 46,
    "start_time": "2023-02-16T16:35:54.327Z"
   },
   {
    "duration": 51,
    "start_time": "2023-02-16T16:36:23.034Z"
   },
   {
    "duration": 92,
    "start_time": "2023-02-16T16:36:42.816Z"
   },
   {
    "duration": 64,
    "start_time": "2023-02-16T16:38:28.465Z"
   },
   {
    "duration": 4786,
    "start_time": "2023-02-16T16:38:38.283Z"
   },
   {
    "duration": 2154,
    "start_time": "2023-02-16T16:38:54.376Z"
   },
   {
    "duration": 67,
    "start_time": "2023-02-16T16:39:03.170Z"
   },
   {
    "duration": 2006,
    "start_time": "2023-02-16T16:42:16.197Z"
   },
   {
    "duration": 652,
    "start_time": "2023-02-16T16:44:48.733Z"
   },
   {
    "duration": 27,
    "start_time": "2023-02-16T16:45:58.564Z"
   },
   {
    "duration": 641,
    "start_time": "2023-02-16T16:46:05.744Z"
   },
   {
    "duration": 119,
    "start_time": "2023-02-16T16:46:23.758Z"
   },
   {
    "duration": 153,
    "start_time": "2023-02-16T16:46:41.803Z"
   },
   {
    "duration": 53,
    "start_time": "2023-02-16T16:46:54.395Z"
   },
   {
    "duration": 52,
    "start_time": "2023-02-17T13:41:51.028Z"
   },
   {
    "duration": 1697,
    "start_time": "2023-02-17T13:42:02.362Z"
   },
   {
    "duration": 184,
    "start_time": "2023-02-17T13:42:04.062Z"
   },
   {
    "duration": 5,
    "start_time": "2023-02-17T13:42:04.248Z"
   },
   {
    "duration": 50,
    "start_time": "2023-02-17T13:42:04.254Z"
   },
   {
    "duration": 6,
    "start_time": "2023-02-17T13:42:04.306Z"
   },
   {
    "duration": 150,
    "start_time": "2023-02-17T13:42:04.313Z"
   },
   {
    "duration": 5,
    "start_time": "2023-02-17T13:42:04.464Z"
   },
   {
    "duration": 163,
    "start_time": "2023-02-17T13:42:04.470Z"
   },
   {
    "duration": 615,
    "start_time": "2023-02-17T13:42:04.635Z"
   },
   {
    "duration": 1090,
    "start_time": "2023-02-17T13:42:05.252Z"
   },
   {
    "duration": 9,
    "start_time": "2023-02-17T13:42:06.344Z"
   },
   {
    "duration": 40,
    "start_time": "2023-02-17T13:42:06.355Z"
   },
   {
    "duration": 105,
    "start_time": "2023-02-17T13:42:06.397Z"
   },
   {
    "duration": 701,
    "start_time": "2023-02-17T13:42:06.505Z"
   },
   {
    "duration": 123,
    "start_time": "2023-02-17T13:42:07.209Z"
   },
   {
    "duration": 902,
    "start_time": "2023-02-17T13:42:07.333Z"
   },
   {
    "duration": 64,
    "start_time": "2023-02-17T13:42:08.237Z"
   },
   {
    "duration": 7,
    "start_time": "2023-02-17T13:42:08.302Z"
   },
   {
    "duration": 22,
    "start_time": "2023-02-17T13:42:08.310Z"
   },
   {
    "duration": 80,
    "start_time": "2023-02-17T13:42:08.334Z"
   },
   {
    "duration": 53,
    "start_time": "2023-02-17T13:42:08.416Z"
   },
   {
    "duration": 159,
    "start_time": "2023-02-17T13:42:08.471Z"
   },
   {
    "duration": 111,
    "start_time": "2023-02-17T13:42:08.631Z"
   },
   {
    "duration": 12,
    "start_time": "2023-02-17T13:42:08.744Z"
   },
   {
    "duration": 36,
    "start_time": "2023-02-17T13:42:08.757Z"
   },
   {
    "duration": 46,
    "start_time": "2023-02-17T13:42:08.794Z"
   },
   {
    "duration": 87,
    "start_time": "2023-02-17T13:44:09.988Z"
   },
   {
    "duration": 171,
    "start_time": "2023-02-17T14:19:25.003Z"
   },
   {
    "duration": 8916,
    "start_time": "2023-02-17T14:20:12.691Z"
   },
   {
    "duration": 564,
    "start_time": "2023-02-17T14:20:50.688Z"
   },
   {
    "duration": 12,
    "start_time": "2023-02-17T14:22:43.836Z"
   },
   {
    "duration": 426,
    "start_time": "2023-02-17T14:22:54.196Z"
   },
   {
    "duration": 32,
    "start_time": "2023-02-17T14:23:40.658Z"
   },
   {
    "duration": 41,
    "start_time": "2023-02-17T14:25:06.145Z"
   },
   {
    "duration": 36,
    "start_time": "2023-02-17T14:25:12.233Z"
   },
   {
    "duration": 524,
    "start_time": "2023-02-17T14:25:46.701Z"
   },
   {
    "duration": 731,
    "start_time": "2023-02-17T14:25:49.274Z"
   },
   {
    "duration": 208,
    "start_time": "2023-02-17T14:26:05.522Z"
   },
   {
    "duration": 19,
    "start_time": "2023-02-17T14:26:27.107Z"
   },
   {
    "duration": 5,
    "start_time": "2023-02-17T16:07:23.289Z"
   },
   {
    "duration": 13,
    "start_time": "2023-02-17T16:07:58.914Z"
   },
   {
    "duration": 46,
    "start_time": "2023-02-19T17:59:11.980Z"
   },
   {
    "duration": 1734,
    "start_time": "2023-02-19T17:59:22.206Z"
   },
   {
    "duration": 103,
    "start_time": "2023-02-19T17:59:23.943Z"
   },
   {
    "duration": 4,
    "start_time": "2023-02-19T17:59:24.048Z"
   },
   {
    "duration": 35,
    "start_time": "2023-02-19T17:59:24.055Z"
   },
   {
    "duration": 7,
    "start_time": "2023-02-19T17:59:24.092Z"
   },
   {
    "duration": 151,
    "start_time": "2023-02-19T17:59:24.101Z"
   },
   {
    "duration": 7,
    "start_time": "2023-02-19T17:59:24.254Z"
   },
   {
    "duration": 151,
    "start_time": "2023-02-19T17:59:24.262Z"
   },
   {
    "duration": 580,
    "start_time": "2023-02-19T17:59:24.414Z"
   },
   {
    "duration": 1005,
    "start_time": "2023-02-19T17:59:24.996Z"
   },
   {
    "duration": 11,
    "start_time": "2023-02-19T17:59:26.003Z"
   },
   {
    "duration": 39,
    "start_time": "2023-02-19T17:59:26.016Z"
   },
   {
    "duration": 82,
    "start_time": "2023-02-19T17:59:26.057Z"
   },
   {
    "duration": 8206,
    "start_time": "2023-02-19T17:59:26.141Z"
   },
   {
    "duration": 514,
    "start_time": "2023-02-19T17:59:34.349Z"
   },
   {
    "duration": 888,
    "start_time": "2023-02-19T17:59:34.865Z"
   },
   {
    "duration": 424,
    "start_time": "2023-02-19T17:59:35.754Z"
   },
   {
    "duration": 30,
    "start_time": "2023-02-19T17:59:36.180Z"
   },
   {
    "duration": 6,
    "start_time": "2023-02-19T17:59:36.212Z"
   },
   {
    "duration": 35,
    "start_time": "2023-02-19T17:59:36.219Z"
   },
   {
    "duration": 37,
    "start_time": "2023-02-19T17:59:36.256Z"
   },
   {
    "duration": 43,
    "start_time": "2023-02-19T17:59:36.294Z"
   },
   {
    "duration": 719,
    "start_time": "2023-02-19T17:59:36.342Z"
   },
   {
    "duration": 505,
    "start_time": "2023-02-19T17:59:37.062Z"
   },
   {
    "duration": 12,
    "start_time": "2023-02-19T17:59:37.568Z"
   },
   {
    "duration": 17,
    "start_time": "2023-02-19T17:59:37.581Z"
   },
   {
    "duration": 226,
    "start_time": "2023-02-19T17:59:37.600Z"
   },
   {
    "duration": 20,
    "start_time": "2023-02-19T17:59:37.828Z"
   },
   {
    "duration": 51,
    "start_time": "2023-02-19T18:12:18.873Z"
   },
   {
    "duration": 46,
    "start_time": "2023-02-19T18:13:06.003Z"
   },
   {
    "duration": 549,
    "start_time": "2023-02-19T18:22:43.061Z"
   },
   {
    "duration": 49,
    "start_time": "2023-03-01T14:23:44.463Z"
   },
   {
    "duration": 1681,
    "start_time": "2023-03-01T14:23:52.886Z"
   },
   {
    "duration": 231,
    "start_time": "2023-03-01T14:23:54.571Z"
   },
   {
    "duration": 4,
    "start_time": "2023-03-01T14:23:54.804Z"
   },
   {
    "duration": 24,
    "start_time": "2023-03-01T14:23:54.810Z"
   },
   {
    "duration": 6,
    "start_time": "2023-03-01T14:23:54.835Z"
   },
   {
    "duration": 164,
    "start_time": "2023-03-01T14:23:54.843Z"
   },
   {
    "duration": 6,
    "start_time": "2023-03-01T14:23:55.009Z"
   },
   {
    "duration": 157,
    "start_time": "2023-03-01T14:23:55.016Z"
   },
   {
    "duration": 746,
    "start_time": "2023-03-01T14:23:55.175Z"
   },
   {
    "duration": 1118,
    "start_time": "2023-03-01T14:23:55.925Z"
   },
   {
    "duration": 17,
    "start_time": "2023-03-01T14:23:57.045Z"
   },
   {
    "duration": 30,
    "start_time": "2023-03-01T14:23:57.066Z"
   },
   {
    "duration": 156,
    "start_time": "2023-03-01T14:23:57.099Z"
   },
   {
    "duration": 7963,
    "start_time": "2023-03-01T14:23:57.258Z"
   },
   {
    "duration": 480,
    "start_time": "2023-03-01T14:24:05.222Z"
   },
   {
    "duration": 849,
    "start_time": "2023-03-01T14:24:05.704Z"
   },
   {
    "duration": 355,
    "start_time": "2023-03-01T14:24:06.557Z"
   },
   {
    "duration": 41,
    "start_time": "2023-03-01T14:24:06.914Z"
   },
   {
    "duration": 7,
    "start_time": "2023-03-01T14:24:06.957Z"
   },
   {
    "duration": 36,
    "start_time": "2023-03-01T14:24:06.966Z"
   },
   {
    "duration": 32,
    "start_time": "2023-03-01T14:24:07.004Z"
   },
   {
    "duration": 33,
    "start_time": "2023-03-01T14:24:07.038Z"
   },
   {
    "duration": 657,
    "start_time": "2023-03-01T14:24:07.073Z"
   },
   {
    "duration": 496,
    "start_time": "2023-03-01T14:24:07.732Z"
   },
   {
    "duration": 23,
    "start_time": "2023-03-01T14:24:08.229Z"
   },
   {
    "duration": 17,
    "start_time": "2023-03-01T14:24:08.261Z"
   },
   {
    "duration": 191,
    "start_time": "2023-03-01T14:24:08.280Z"
   },
   {
    "duration": 13,
    "start_time": "2023-03-01T14:24:08.474Z"
   },
   {
    "duration": 553,
    "start_time": "2023-03-01T14:24:08.489Z"
   },
   {
    "duration": 142,
    "start_time": "2023-03-01T14:29:46.964Z"
   },
   {
    "duration": 152,
    "start_time": "2023-03-01T14:29:50.867Z"
   },
   {
    "duration": 18,
    "start_time": "2023-03-01T14:38:36.244Z"
   },
   {
    "duration": 125,
    "start_time": "2023-03-01T14:40:51.406Z"
   },
   {
    "duration": 35,
    "start_time": "2023-03-01T14:41:01.025Z"
   },
   {
    "duration": 133,
    "start_time": "2023-03-01T14:41:16.580Z"
   },
   {
    "duration": 26,
    "start_time": "2023-03-01T14:43:48.978Z"
   },
   {
    "duration": 140,
    "start_time": "2023-03-01T14:44:08.713Z"
   },
   {
    "duration": 143,
    "start_time": "2023-03-01T14:44:38.407Z"
   },
   {
    "duration": 98,
    "start_time": "2023-03-01T14:44:51.834Z"
   },
   {
    "duration": 76,
    "start_time": "2023-03-01T14:45:07.064Z"
   },
   {
    "duration": 30,
    "start_time": "2023-03-01T14:45:13.262Z"
   },
   {
    "duration": 30,
    "start_time": "2023-03-01T14:52:38.806Z"
   },
   {
    "duration": 93,
    "start_time": "2023-03-01T14:58:48.358Z"
   },
   {
    "duration": 96,
    "start_time": "2023-03-01T14:58:59.052Z"
   },
   {
    "duration": 1353,
    "start_time": "2023-03-01T16:07:24.480Z"
   },
   {
    "duration": 86,
    "start_time": "2023-03-01T16:07:25.836Z"
   },
   {
    "duration": 8,
    "start_time": "2023-03-01T16:07:25.924Z"
   },
   {
    "duration": 58,
    "start_time": "2023-03-01T16:07:25.934Z"
   },
   {
    "duration": 9,
    "start_time": "2023-03-01T16:07:25.995Z"
   },
   {
    "duration": 166,
    "start_time": "2023-03-01T16:07:26.007Z"
   },
   {
    "duration": 6,
    "start_time": "2023-03-01T16:07:26.175Z"
   },
   {
    "duration": 152,
    "start_time": "2023-03-01T16:07:26.182Z"
   },
   {
    "duration": 623,
    "start_time": "2023-03-01T16:07:26.336Z"
   },
   {
    "duration": 995,
    "start_time": "2023-03-01T16:07:26.961Z"
   },
   {
    "duration": 13,
    "start_time": "2023-03-01T16:07:27.958Z"
   },
   {
    "duration": 32,
    "start_time": "2023-03-01T16:07:27.972Z"
   },
   {
    "duration": 63,
    "start_time": "2023-03-01T16:07:28.005Z"
   },
   {
    "duration": 6304,
    "start_time": "2023-03-01T16:07:28.150Z"
   },
   {
    "duration": 408,
    "start_time": "2023-03-01T16:07:34.456Z"
   },
   {
    "duration": 677,
    "start_time": "2023-03-01T16:07:34.866Z"
   },
   {
    "duration": 328,
    "start_time": "2023-03-01T16:07:35.547Z"
   },
   {
    "duration": 26,
    "start_time": "2023-03-01T16:07:35.877Z"
   },
   {
    "duration": 12,
    "start_time": "2023-03-01T16:07:35.906Z"
   },
   {
    "duration": 30,
    "start_time": "2023-03-01T16:07:35.920Z"
   },
   {
    "duration": 35,
    "start_time": "2023-03-01T16:07:35.952Z"
   },
   {
    "duration": 30,
    "start_time": "2023-03-01T16:07:35.989Z"
   },
   {
    "duration": 562,
    "start_time": "2023-03-01T16:07:36.021Z"
   },
   {
    "duration": 400,
    "start_time": "2023-03-01T16:07:36.585Z"
   },
   {
    "duration": 9,
    "start_time": "2023-03-01T16:07:36.987Z"
   },
   {
    "duration": 14,
    "start_time": "2023-03-01T16:07:36.997Z"
   },
   {
    "duration": 178,
    "start_time": "2023-03-01T16:07:37.013Z"
   },
   {
    "duration": 11,
    "start_time": "2023-03-01T16:07:37.193Z"
   },
   {
    "duration": 502,
    "start_time": "2023-03-01T16:07:37.206Z"
   },
   {
    "duration": 48083,
    "start_time": "2023-03-01T16:12:41.294Z"
   },
   {
    "duration": 1689,
    "start_time": "2023-03-02T14:38:44.114Z"
   },
   {
    "duration": 115,
    "start_time": "2023-03-02T14:38:45.805Z"
   },
   {
    "duration": 6,
    "start_time": "2023-03-02T14:38:45.922Z"
   },
   {
    "duration": 48,
    "start_time": "2023-03-02T14:38:45.929Z"
   },
   {
    "duration": 5,
    "start_time": "2023-03-02T14:38:45.979Z"
   },
   {
    "duration": 175,
    "start_time": "2023-03-02T14:38:45.987Z"
   },
   {
    "duration": 5,
    "start_time": "2023-03-02T14:38:46.164Z"
   },
   {
    "duration": 147,
    "start_time": "2023-03-02T14:38:46.171Z"
   },
   {
    "duration": 652,
    "start_time": "2023-03-02T14:38:46.320Z"
   },
   {
    "duration": 1095,
    "start_time": "2023-03-02T14:38:46.974Z"
   },
   {
    "duration": 12,
    "start_time": "2023-03-02T14:38:48.070Z"
   },
   {
    "duration": 31,
    "start_time": "2023-03-02T14:38:48.083Z"
   },
   {
    "duration": 142,
    "start_time": "2023-03-02T14:38:48.115Z"
   },
   {
    "duration": 446,
    "start_time": "2023-03-02T14:39:38.592Z"
   },
   {
    "duration": 757,
    "start_time": "2023-03-02T14:39:39.040Z"
   },
   {
    "duration": 342,
    "start_time": "2023-03-02T14:39:39.799Z"
   },
   {
    "duration": 31,
    "start_time": "2023-03-02T14:39:40.142Z"
   },
   {
    "duration": 6,
    "start_time": "2023-03-02T14:39:40.174Z"
   },
   {
    "duration": 12,
    "start_time": "2023-03-02T14:39:40.182Z"
   },
   {
    "duration": 61,
    "start_time": "2023-03-02T14:39:40.196Z"
   },
   {
    "duration": 29,
    "start_time": "2023-03-02T14:39:40.259Z"
   },
   {
    "duration": 634,
    "start_time": "2023-03-02T14:39:40.290Z"
   },
   {
    "duration": 447,
    "start_time": "2023-03-02T14:39:40.926Z"
   },
   {
    "duration": 12,
    "start_time": "2023-03-02T14:39:41.375Z"
   },
   {
    "duration": 20,
    "start_time": "2023-03-02T14:39:41.388Z"
   },
   {
    "duration": 211,
    "start_time": "2023-03-02T14:39:41.410Z"
   },
   {
    "duration": 25,
    "start_time": "2023-03-02T14:39:41.623Z"
   },
   {
    "duration": 530,
    "start_time": "2023-03-02T14:39:41.650Z"
   },
   {
    "duration": 1439,
    "start_time": "2023-03-02T14:39:55.476Z"
   },
   {
    "duration": 64,
    "start_time": "2023-03-02T14:39:56.917Z"
   },
   {
    "duration": 6,
    "start_time": "2023-03-02T14:39:56.982Z"
   },
   {
    "duration": 24,
    "start_time": "2023-03-02T14:39:56.989Z"
   },
   {
    "duration": 6,
    "start_time": "2023-03-02T14:39:57.015Z"
   },
   {
    "duration": 178,
    "start_time": "2023-03-02T14:39:57.022Z"
   },
   {
    "duration": 5,
    "start_time": "2023-03-02T14:39:57.201Z"
   },
   {
    "duration": 146,
    "start_time": "2023-03-02T14:39:57.208Z"
   },
   {
    "duration": 633,
    "start_time": "2023-03-02T14:39:57.356Z"
   },
   {
    "duration": 1035,
    "start_time": "2023-03-02T14:39:57.991Z"
   },
   {
    "duration": 21,
    "start_time": "2023-03-02T14:39:59.028Z"
   },
   {
    "duration": 33,
    "start_time": "2023-03-02T14:39:59.050Z"
   },
   {
    "duration": 69,
    "start_time": "2023-03-02T14:39:59.084Z"
   },
   {
    "duration": 51020,
    "start_time": "2023-03-02T14:39:59.157Z"
   },
   {
    "duration": 466,
    "start_time": "2023-03-02T14:40:50.179Z"
   },
   {
    "duration": 768,
    "start_time": "2023-03-02T14:40:50.646Z"
   },
   {
    "duration": 339,
    "start_time": "2023-03-02T14:40:51.416Z"
   },
   {
    "duration": 26,
    "start_time": "2023-03-02T14:40:51.756Z"
   },
   {
    "duration": 6,
    "start_time": "2023-03-02T14:40:51.784Z"
   },
   {
    "duration": 16,
    "start_time": "2023-03-02T14:40:51.792Z"
   },
   {
    "duration": 55,
    "start_time": "2023-03-02T14:40:51.810Z"
   },
   {
    "duration": 29,
    "start_time": "2023-03-02T14:40:51.867Z"
   },
   {
    "duration": 634,
    "start_time": "2023-03-02T14:40:51.898Z"
   },
   {
    "duration": 454,
    "start_time": "2023-03-02T14:40:52.533Z"
   },
   {
    "duration": 11,
    "start_time": "2023-03-02T14:40:52.989Z"
   },
   {
    "duration": 17,
    "start_time": "2023-03-02T14:40:53.002Z"
   },
   {
    "duration": 207,
    "start_time": "2023-03-02T14:40:53.021Z"
   },
   {
    "duration": 18,
    "start_time": "2023-03-02T14:40:53.230Z"
   },
   {
    "duration": 540,
    "start_time": "2023-03-02T14:40:53.250Z"
   },
   {
    "duration": 2316,
    "start_time": "2023-03-02T14:45:39.202Z"
   },
   {
    "duration": 2335,
    "start_time": "2023-03-02T14:46:36.683Z"
   },
   {
    "duration": 2303,
    "start_time": "2023-03-02T14:47:08.395Z"
   },
   {
    "duration": 467,
    "start_time": "2023-03-02T14:48:39.748Z"
   },
   {
    "duration": 41,
    "start_time": "2023-03-02T14:49:25.806Z"
   },
   {
    "duration": 39,
    "start_time": "2023-03-02T14:50:40.737Z"
   },
   {
    "duration": 39,
    "start_time": "2023-03-02T14:51:51.682Z"
   },
   {
    "duration": 66,
    "start_time": "2023-03-02T14:55:26.837Z"
   },
   {
    "duration": 2366,
    "start_time": "2023-03-02T14:56:16.437Z"
   },
   {
    "duration": 2323,
    "start_time": "2023-03-02T14:58:27.174Z"
   },
   {
    "duration": 2373,
    "start_time": "2023-03-02T14:59:31.185Z"
   },
   {
    "duration": 44,
    "start_time": "2023-03-02T15:07:24.625Z"
   },
   {
    "duration": 2395,
    "start_time": "2023-03-02T15:08:26.216Z"
   },
   {
    "duration": 2375,
    "start_time": "2023-03-02T15:09:02.431Z"
   },
   {
    "duration": 1376,
    "start_time": "2023-03-02T15:11:27.365Z"
   },
   {
    "duration": 62,
    "start_time": "2023-03-02T15:11:28.744Z"
   },
   {
    "duration": 5,
    "start_time": "2023-03-02T15:11:28.808Z"
   },
   {
    "duration": 24,
    "start_time": "2023-03-02T15:11:28.816Z"
   },
   {
    "duration": 6,
    "start_time": "2023-03-02T15:11:28.842Z"
   },
   {
    "duration": 138,
    "start_time": "2023-03-02T15:11:28.850Z"
   },
   {
    "duration": 4,
    "start_time": "2023-03-02T15:11:28.990Z"
   },
   {
    "duration": 137,
    "start_time": "2023-03-02T15:11:28.995Z"
   },
   {
    "duration": 584,
    "start_time": "2023-03-02T15:11:29.133Z"
   },
   {
    "duration": 988,
    "start_time": "2023-03-02T15:11:29.719Z"
   },
   {
    "duration": 12,
    "start_time": "2023-03-02T15:11:30.709Z"
   },
   {
    "duration": 52,
    "start_time": "2023-03-02T15:11:30.722Z"
   },
   {
    "duration": 78,
    "start_time": "2023-03-02T15:11:30.776Z"
   },
   {
    "duration": 2728,
    "start_time": "2023-03-02T15:11:30.856Z"
   },
   {
    "duration": 0,
    "start_time": "2023-03-02T15:11:33.586Z"
   },
   {
    "duration": 0,
    "start_time": "2023-03-02T15:11:33.588Z"
   },
   {
    "duration": 0,
    "start_time": "2023-03-02T15:11:33.589Z"
   },
   {
    "duration": 0,
    "start_time": "2023-03-02T15:11:33.591Z"
   },
   {
    "duration": 0,
    "start_time": "2023-03-02T15:11:33.593Z"
   },
   {
    "duration": 0,
    "start_time": "2023-03-02T15:11:33.594Z"
   },
   {
    "duration": 0,
    "start_time": "2023-03-02T15:11:33.596Z"
   },
   {
    "duration": 0,
    "start_time": "2023-03-02T15:11:33.597Z"
   },
   {
    "duration": 0,
    "start_time": "2023-03-02T15:11:33.599Z"
   },
   {
    "duration": 0,
    "start_time": "2023-03-02T15:11:33.601Z"
   },
   {
    "duration": 0,
    "start_time": "2023-03-02T15:11:33.602Z"
   },
   {
    "duration": 0,
    "start_time": "2023-03-02T15:11:33.603Z"
   },
   {
    "duration": 0,
    "start_time": "2023-03-02T15:11:33.605Z"
   },
   {
    "duration": 0,
    "start_time": "2023-03-02T15:11:33.606Z"
   },
   {
    "duration": 0,
    "start_time": "2023-03-02T15:11:33.607Z"
   },
   {
    "duration": 0,
    "start_time": "2023-03-02T15:14:38.158Z"
   },
   {
    "duration": 113766,
    "start_time": "2023-03-02T15:24:43.317Z"
   },
   {
    "duration": 371,
    "start_time": "2023-03-02T15:28:14.796Z"
   },
   {
    "duration": 3652,
    "start_time": "2023-03-02T15:31:04.668Z"
   },
   {
    "duration": 3280,
    "start_time": "2023-03-02T15:31:24.631Z"
   },
   {
    "duration": 3206,
    "start_time": "2023-03-02T15:31:38.090Z"
   },
   {
    "duration": 27,
    "start_time": "2023-03-02T15:31:50.665Z"
   },
   {
    "duration": 3362,
    "start_time": "2023-03-02T15:47:01.122Z"
   },
   {
    "duration": 27,
    "start_time": "2023-03-02T15:48:23.102Z"
   },
   {
    "duration": 10,
    "start_time": "2023-03-02T15:55:25.090Z"
   },
   {
    "duration": 1395,
    "start_time": "2023-03-02T15:55:37.087Z"
   },
   {
    "duration": 63,
    "start_time": "2023-03-02T15:55:38.484Z"
   },
   {
    "duration": 3,
    "start_time": "2023-03-02T15:55:38.549Z"
   },
   {
    "duration": 33,
    "start_time": "2023-03-02T15:55:38.554Z"
   },
   {
    "duration": 5,
    "start_time": "2023-03-02T15:55:38.589Z"
   },
   {
    "duration": 161,
    "start_time": "2023-03-02T15:55:38.596Z"
   },
   {
    "duration": 5,
    "start_time": "2023-03-02T15:55:38.758Z"
   },
   {
    "duration": 141,
    "start_time": "2023-03-02T15:55:38.764Z"
   },
   {
    "duration": 581,
    "start_time": "2023-03-02T15:55:38.907Z"
   },
   {
    "duration": 997,
    "start_time": "2023-03-02T15:55:39.489Z"
   },
   {
    "duration": 11,
    "start_time": "2023-03-02T15:55:40.488Z"
   },
   {
    "duration": 48,
    "start_time": "2023-03-02T15:55:40.501Z"
   },
   {
    "duration": 97,
    "start_time": "2023-03-02T15:55:40.551Z"
   },
   {
    "duration": 112852,
    "start_time": "2023-03-02T15:55:40.654Z"
   },
   {
    "duration": 351,
    "start_time": "2023-03-02T15:57:33.507Z"
   },
   {
    "duration": 749,
    "start_time": "2023-03-02T15:57:33.860Z"
   },
   {
    "duration": 3313,
    "start_time": "2023-03-02T15:57:34.611Z"
   },
   {
    "duration": 37,
    "start_time": "2023-03-02T15:57:37.926Z"
   },
   {
    "duration": 6,
    "start_time": "2023-03-02T15:57:37.966Z"
   },
   {
    "duration": 12,
    "start_time": "2023-03-02T15:57:37.974Z"
   },
   {
    "duration": 4061,
    "start_time": "2023-03-02T15:57:37.988Z"
   },
   {
    "duration": 32,
    "start_time": "2023-03-02T15:57:42.050Z"
   },
   {
    "duration": 2,
    "start_time": "2023-03-02T15:57:42.084Z"
   },
   {
    "duration": 5,
    "start_time": "2023-03-02T15:57:42.088Z"
   },
   {
    "duration": 157333,
    "start_time": "2023-03-02T15:57:42.094Z"
   },
   {
    "duration": 599,
    "start_time": "2023-03-02T16:00:19.429Z"
   },
   {
    "duration": 438,
    "start_time": "2023-03-02T16:00:20.030Z"
   },
   {
    "duration": 10,
    "start_time": "2023-03-02T16:00:20.470Z"
   },
   {
    "duration": 16,
    "start_time": "2023-03-02T16:00:20.482Z"
   },
   {
    "duration": 200,
    "start_time": "2023-03-02T16:00:20.500Z"
   },
   {
    "duration": 14,
    "start_time": "2023-03-02T16:00:20.701Z"
   },
   {
    "duration": 504,
    "start_time": "2023-03-02T16:00:20.716Z"
   },
   {
    "duration": 43,
    "start_time": "2023-03-02T16:05:37.167Z"
   },
   {
    "duration": 39,
    "start_time": "2023-03-02T16:06:03.634Z"
   },
   {
    "duration": 229,
    "start_time": "2023-03-02T16:06:29.516Z"
   },
   {
    "duration": 98,
    "start_time": "2023-03-02T16:07:37.854Z"
   },
   {
    "duration": 3,
    "start_time": "2023-03-02T16:08:15.911Z"
   },
   {
    "duration": 12,
    "start_time": "2023-03-02T16:11:18.558Z"
   },
   {
    "duration": 21,
    "start_time": "2023-03-02T16:12:44.399Z"
   },
   {
    "duration": 1422,
    "start_time": "2023-03-02T16:13:26.730Z"
   },
   {
    "duration": 24,
    "start_time": "2023-03-02T16:14:53.477Z"
   },
   {
    "duration": 21,
    "start_time": "2023-03-02T16:14:59.786Z"
   },
   {
    "duration": 60080,
    "start_time": "2023-03-02T16:18:53.693Z"
   },
   {
    "duration": 153,
    "start_time": "2023-03-02T16:21:09.777Z"
   },
   {
    "duration": 1544,
    "start_time": "2023-03-02T19:11:12.496Z"
   },
   {
    "duration": 109,
    "start_time": "2023-03-02T19:11:14.042Z"
   },
   {
    "duration": 6,
    "start_time": "2023-03-02T19:11:14.153Z"
   },
   {
    "duration": 24,
    "start_time": "2023-03-02T19:11:14.162Z"
   },
   {
    "duration": 5,
    "start_time": "2023-03-02T19:11:14.188Z"
   },
   {
    "duration": 176,
    "start_time": "2023-03-02T19:11:14.195Z"
   },
   {
    "duration": 4,
    "start_time": "2023-03-02T19:11:14.373Z"
   },
   {
    "duration": 147,
    "start_time": "2023-03-02T19:11:14.379Z"
   },
   {
    "duration": 609,
    "start_time": "2023-03-02T19:11:14.528Z"
   },
   {
    "duration": 1084,
    "start_time": "2023-03-02T19:11:15.139Z"
   },
   {
    "duration": 12,
    "start_time": "2023-03-02T19:11:16.224Z"
   },
   {
    "duration": 28,
    "start_time": "2023-03-02T19:11:16.248Z"
   },
   {
    "duration": 75,
    "start_time": "2023-03-02T19:11:16.278Z"
   },
   {
    "duration": 115115,
    "start_time": "2023-03-02T19:11:16.357Z"
   },
   {
    "duration": 334,
    "start_time": "2023-03-02T19:13:11.473Z"
   },
   {
    "duration": 756,
    "start_time": "2023-03-02T19:13:11.809Z"
   },
   {
    "duration": 3332,
    "start_time": "2023-03-02T19:13:12.566Z"
   },
   {
    "duration": 32,
    "start_time": "2023-03-02T19:13:15.900Z"
   },
   {
    "duration": 18,
    "start_time": "2023-03-02T19:13:15.934Z"
   },
   {
    "duration": 14,
    "start_time": "2023-03-02T19:13:15.953Z"
   },
   {
    "duration": 88,
    "start_time": "2023-03-02T19:13:15.969Z"
   },
   {
    "duration": 4054,
    "start_time": "2023-03-02T19:13:16.150Z"
   },
   {
    "duration": 43,
    "start_time": "2023-03-02T19:13:20.206Z"
   },
   {
    "duration": 3,
    "start_time": "2023-03-02T19:13:20.250Z"
   },
   {
    "duration": 8,
    "start_time": "2023-03-02T19:13:20.254Z"
   },
   {
    "duration": 158622,
    "start_time": "2023-03-02T19:13:20.264Z"
   },
   {
    "duration": 240,
    "start_time": "2023-03-02T19:15:58.888Z"
   },
   {
    "duration": 2,
    "start_time": "2023-03-02T19:15:59.130Z"
   },
   {
    "duration": 20,
    "start_time": "2023-03-02T19:15:59.134Z"
   },
   {
    "duration": 20,
    "start_time": "2023-03-02T19:15:59.156Z"
   },
   {
    "duration": 1551,
    "start_time": "2023-03-02T19:15:59.250Z"
   },
   {
    "duration": 19,
    "start_time": "2023-03-02T19:16:00.802Z"
   },
   {
    "duration": 58906,
    "start_time": "2023-03-02T19:16:00.823Z"
   },
   {
    "duration": 177,
    "start_time": "2023-03-02T19:16:59.731Z"
   },
   {
    "duration": 16,
    "start_time": "2023-03-02T19:16:59.910Z"
   },
   {
    "duration": 269,
    "start_time": "2023-03-02T19:16:59.928Z"
   },
   {
    "duration": 234,
    "start_time": "2023-03-02T19:23:52.614Z"
   },
   {
    "duration": 122,
    "start_time": "2023-03-02T19:26:23.562Z"
   },
   {
    "duration": 14,
    "start_time": "2023-03-02T19:26:49.746Z"
   },
   {
    "duration": 168,
    "start_time": "2023-03-02T19:26:59.475Z"
   },
   {
    "duration": 8,
    "start_time": "2023-03-02T19:38:08.764Z"
   }
  ],
  "kernelspec": {
   "display_name": "Python 3 (ipykernel)",
   "language": "python",
   "name": "python3"
  },
  "language_info": {
   "codemirror_mode": {
    "name": "ipython",
    "version": 3
   },
   "file_extension": ".py",
   "mimetype": "text/x-python",
   "name": "python",
   "nbconvert_exporter": "python",
   "pygments_lexer": "ipython3",
   "version": "3.9.5"
  },
  "toc": {
   "base_numbering": 1,
   "nav_menu": {},
   "number_sections": true,
   "sideBar": true,
   "skip_h1_title": true,
   "title_cell": "Содержание",
   "title_sidebar": "Contents",
   "toc_cell": true,
   "toc_position": {},
   "toc_section_display": true,
   "toc_window_display": false
  }
 },
 "nbformat": 4,
 "nbformat_minor": 2
}
